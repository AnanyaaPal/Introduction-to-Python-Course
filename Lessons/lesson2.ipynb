{
 "cells": [
  {
   "cell_type": "markdown",
   "id": "72c5eba1-9cd3-4694-ad4b-b5016c88f2ba",
   "metadata": {
    "editable": true,
    "slideshow": {
     "slide_type": ""
    },
    "tags": []
   },
   "source": [
    "#| label: intro\n",
    "\n",
    "# Course material 1\n",
    "## Lesson 2 (19.10.2023)"
   ]
  },
  {
   "cell_type": "markdown",
   "id": "2c0874ee-7521-42b4-97eb-fb03c9e1c8df",
   "metadata": {
    "editable": true,
    "slideshow": {
     "slide_type": ""
    },
    "tags": []
   },
   "source": [
    "## Types\n",
    "We have seen sofar different *values*. All these values belong to different *types*."
   ]
  },
  {
   "cell_type": "code",
   "execution_count": 47,
   "id": "ae632da1-55cc-41a6-be3a-589f187ef60e",
   "metadata": {
    "editable": true,
    "slideshow": {
     "slide_type": ""
    },
    "tags": []
   },
   "outputs": [
    {
     "name": "stdout",
     "output_type": "stream",
     "text": [
      "Help on built-in function replace:\n",
      "\n",
      "replace(old, new, count=-1, /) method of builtins.str instance\n",
      "    Return a copy with all occurrences of substring old replaced by new.\n",
      "    \n",
      "      count\n",
      "        Maximum number of occurrences to replace.\n",
      "        -1 (the default value) means replace all occurrences.\n",
      "    \n",
      "    If the optional argument count is given, only the first count occurrences are\n",
      "    replaced.\n",
      "\n"
     ]
    },
    {
     "data": {
      "text/plain": [
       "'Hallo'"
      ]
     },
     "execution_count": 47,
     "metadata": {},
     "output_type": "execute_result"
    }
   ],
   "source": [
    "type(1)                  # integer\n",
    "type(1.)                 # float (representing a \"real\" number)\n",
    "type(\"Hello\")            # string\n",
    "type([1,2,3])            # list\n",
    "type((1,2,3))            # tuple\n",
    "type({\"key\": \"value\"})   # dictionary\n",
    "\n",
    "# get the methods associated with a type\n",
    "dir(1.)        # methods for floats\n",
    "dir([1,2,3])   # methods for lists\n",
    "dir(\"Hello\")   # methods for strings\n",
    "\n",
    "# methods are functions\n",
    "# when we call a function we use \"dot notation\"\n",
    "type(\"Hello\".replace) \n",
    "# get information about the method\n",
    "help(\"Hello\".replace)\n",
    "# use the method\n",
    "\"Hello\".replace(\"e\", \"a\")"
   ]
  },
  {
   "cell_type": "markdown",
   "id": "1d5cdd3a-3a09-4db2-8d4e-f9c643889e57",
   "metadata": {
    "jp-MarkdownHeadingCollapsed": true
   },
   "source": [
    "### Note wrt *floats*:\n",
    "A *float* is a computer representation of a real number called a **floating point number**. \n",
    "\n",
    "Representing $\\sqrt{2}$ or $1/3$ perfectly would be impossible in a computer, so we use a finite amount of memory to do it.\n",
    "\n",
    "Floating-point numbers are represented in computer hardware as base 2 (binary) fractions. \n",
    "\n",
    "For example, the binary fraction 0.101 has value $1/2^2 + 0/2^3 + 1/2^4$\n",
    "\n",
    "Unfortunately, most decimal fractions cannot be represented exactly as binary fractions. \n",
    "A consequence is that, in general, the decimal floating-point numbers you enter are only approximated by the binary floating-point numbers actually stored in the machine.\n",
    "\n",
    "First of all, some fractional numbers are endless. E.g., when you divide 1 by 3, you can round the result to 0.33, 0.333333333, or 0.333333333333333333. No matter what precision you choose, there will always be more 3’s. Since there’s a limited number of bits to store a float number, many numbers are a best-effort approximation. "
   ]
  },
  {
   "cell_type": "code",
   "execution_count": 7,
   "id": "5b960d68-c017-478d-80f7-201a9eb78566",
   "metadata": {},
   "outputs": [
    {
     "data": {
      "text/plain": [
       "'0.1000000000000000055511151231257827021181583404541015625000000000'"
      ]
     },
     "execution_count": 7,
     "metadata": {},
     "output_type": "execute_result"
    }
   ],
   "source": [
    "# print result of 1/10\n",
    "print(1/10)\n",
    "\n",
    "# increase precision\n",
    "format(1/10, '.2f')\n",
    "format(1/10, '.6f')\n",
    "format(1/10, '.64f')"
   ]
  },
  {
   "cell_type": "markdown",
   "id": "dc6447d4-41d7-4dfc-b2eb-b6fffad8aa85",
   "metadata": {},
   "source": [
    "So floating-point numbers have limited precision because they are stored in a finite amount of memory, sometimes leading to unexpected results when performing arithmetic operations on floating-point numbers. What is meant with this? Let's see an example:"
   ]
  },
  {
   "cell_type": "code",
   "execution_count": 15,
   "id": "e7bbbf66-b5bb-472d-ae0c-97d802167074",
   "metadata": {},
   "outputs": [
    {
     "name": "stdout",
     "output_type": "stream",
     "text": [
      "0.3000000000000000444089209850062616169452667236328125000000000000\n",
      "0.2999999999999999888977697537484345957636833190917968750000000000\n",
      "0.30\n",
      "0.30\n"
     ]
    },
    {
     "data": {
      "text/plain": [
       "True"
      ]
     },
     "execution_count": 15,
     "metadata": {},
     "output_type": "execute_result"
    }
   ],
   "source": [
    "val1 = 1/10 + 1/10 + 1/10 \n",
    "val1\n",
    "val2 = 0.3\n",
    "\n",
    "# so both variables are equal (?)\n",
    "val1 == val2\n",
    "\n",
    "# let's check again the format\n",
    "print(format(val1, \".64f\"))\n",
    "print(format(val2, \".64f\"))\n",
    "\n",
    "# how can we circumvent these situations?\n",
    "# pre-rounding the numbers\n",
    "print(format(val1, \".2f\"))\n",
    "print(format(val2, \".2f\"))\n",
    "format(val1, \".2f\") == format(val2, \".2f\")"
   ]
  },
  {
   "cell_type": "markdown",
   "id": "50387356-7cd0-4496-a4ae-18adde545d03",
   "metadata": {
    "jp-MarkdownHeadingCollapsed": true
   },
   "source": [
    "### Lists\n",
    "Python’s basic container type is the list.\n",
    "\n",
    "+ We can define our own list with square brackets.\n",
    "+ Lists do not have to contain just one type\n",
    "+ We access an element of a list with an `int` in square brackets\n",
    "+ A list can be modified: (is mutable)\n",
    "\n",
    "Note that list indices start from zero.\n",
    "We can use a string to join together a list of strings."
   ]
  },
  {
   "cell_type": "code",
   "execution_count": 66,
   "id": "15e90989-c9aa-4443-b38d-e87c62c736ca",
   "metadata": {},
   "outputs": [
    {
     "data": {
      "text/plain": [
       "['lea', 'tom', 'gerrit']"
      ]
     },
     "execution_count": 66,
     "metadata": {},
     "output_type": "execute_result"
    }
   ],
   "source": [
    "# create a list using square brackets\n",
    "var_list = [1,2,3,4,5]\n",
    "type(var_list)  # check type\n",
    "\n",
    "# lists can have multiple types\n",
    "mixed_list = [1, 1., \"string\"]\n",
    "mixed_list\n",
    "\n",
    "# they can even contain lists themeselves\n",
    "nested_list = [1,2,[1,2, [1,2]]]\n",
    "nested_list\n",
    "\n",
    "# access element from list using integers\n",
    "mixed_list[2]          # note: first element has index = 0\n",
    "nested_list[2][2][0]\n",
    "var_list[-1]           # get last element\n",
    "var_list[1:2]          # get a slice\n",
    "var_list[0::2]         # get every second element (even) i = 0,2,4,...\n",
    "var_list[1::2]         # get every second element (uneven) i = 1,3,5,...\n",
    "\n",
    "# joint strings with a list\n",
    "names = [\"lea\", \"tim\", \"gerrit\"]\n",
    "names_joined = \"_\".join(names)\n",
    "names_joined\n",
    "# split string into a list of strings\n",
    "names_joined.split(\"_\")\n",
    "\n",
    "# modify element in a list (mutability)\n",
    "names[1] = \"tom\"\n",
    "names"
   ]
  },
  {
   "cell_type": "markdown",
   "id": "5f4f4ddf-ad59-4099-a5d0-69b705584e96",
   "metadata": {
    "jp-MarkdownHeadingCollapsed": true
   },
   "source": [
    "### Tuples\n",
    "\n",
    "+ A tuple is an immutable sequence. \n",
    "+ It is like a list, except it cannot be changed. \n",
    "+ It is defined with round brackets."
   ]
  },
  {
   "cell_type": "code",
   "execution_count": 79,
   "id": "becc884f-c2a6-4ca7-bcec-476fcf6d134f",
   "metadata": {},
   "outputs": [
    {
     "data": {
      "text/plain": [
       "'Hallo'"
      ]
     },
     "execution_count": 79,
     "metadata": {},
     "output_type": "execute_result"
    }
   ],
   "source": [
    "# create a tuple with round brackets\n",
    "var_tuple = (1,2,3)\n",
    "# check type\n",
    "type(var_tuple)\n",
    "\n",
    "# tuple with a single element\n",
    "type((1))      # type integer\n",
    "type((1,))     # type tuple\n",
    "\n",
    "# a tuple is immutable\n",
    "var_tuple[1] = 0\n",
    "\n",
    "# note: a string is immutable too:\n",
    "\"Hello\"[1] = \"a\"\n",
    "# but we have other methods as already used\n",
    "\"Hello\".replace(\"e\", \"a\")"
   ]
  },
  {
   "cell_type": "markdown",
   "id": "0c06db04-85a1-44db-822c-fa3f9876cade",
   "metadata": {
    "jp-MarkdownHeadingCollapsed": true
   },
   "source": [
    "### Ranges\n",
    "\n",
    "Another useful type is range, which gives you a sequence of consecutive numbers. \n",
    "\n",
    "In contrast to a list, ranges generate the numbers as you need them, rather than all at once.\n",
    "\n",
    "If you try to print a range, you’ll see something that looks a little strange"
   ]
  },
  {
   "cell_type": "code",
   "execution_count": 50,
   "id": "bfa5d531-2bcb-4e40-86fc-29e69c3eebf2",
   "metadata": {},
   "outputs": [
    {
     "name": "stdout",
     "output_type": "stream",
     "text": [
      "0\n",
      "1\n",
      "2\n",
      "3\n",
      "4\n"
     ]
    }
   ],
   "source": [
    "# We don’t see the contents, because they haven’t been generatead yet. \n",
    "# Instead, Python gives us a description of the object - in this case, its type (range) and its lower and upper limits.\n",
    "range(5)\n",
    "\n",
    "# We can quickly make a list with numbers counted up by converting this range\n",
    "list(range(5))\n",
    "\n",
    "# you can see how ranges work by using a for loop\n",
    "for i in range(5):\n",
    "    print(i)"
   ]
  },
  {
   "cell_type": "markdown",
   "id": "ef13363a-454e-4a08-ab00-1df58154e936",
   "metadata": {},
   "source": [
    "### Sequences\n",
    "\n",
    "Tuples, ranges, lists and also strings are **sequences**.\n",
    "Sequences support various useful operations, including:\n",
    "\n",
    "+ Accessing a single element at a particular index: `sequence[index]`\n",
    "+ Accessing multiple elements (a slice): `sequence[start:end_plus_one]`\n",
    "+ Getting the length of a sequence: `len(sequence)`\n",
    "+ Checking whether the sequence contains an element: element in sequence\n",
    "\n",
    "The following examples illustrate these operations with lists, strings, tuples, and ranges."
   ]
  },
  {
   "cell_type": "code",
   "execution_count": 83,
   "id": "26349d4b-4431-443f-b9cf-e02f05ed9f58",
   "metadata": {},
   "outputs": [
    {
     "data": {
      "text/plain": [
       "False"
      ]
     },
     "execution_count": 83,
     "metadata": {},
     "output_type": "execute_result"
    }
   ],
   "source": [
    "# access single element from a range\n",
    "range(5)[2]\n",
    "\n",
    "# get length of a string\n",
    "len(\"Hello\")\n",
    "\n",
    "# get slice of a string\n",
    "\"Hello World\"[3:7]\n",
    "\n",
    "# check membership\n",
    "# for lists\n",
    "family = [\"elsa\", \"lea\", \"tim\", \"tom\"]\n",
    "\"elsa\" in family\n",
    "# for ranges\n",
    "3 in range(4)\n",
    "# for strings\n",
    "\"Hello\" in \"Hello World\"\n",
    "# for tuple\n",
    "7 in (2,3,4)"
   ]
  },
  {
   "cell_type": "markdown",
   "id": "7b81e12a-d348-4fbd-b486-5418a54d52e5",
   "metadata": {},
   "source": [
    "### Unpacking\n",
    "Multiple values can be unpacked when assigning from sequences, like dealing out decks of cards.mylist = [\"Hello\", \"World\"]\n",
    "a, b = mylist\n",
    "print(b)"
   ]
  },
  {
   "cell_type": "code",
   "execution_count": 95,
   "id": "26be980d-95ff-4c38-a156-2eaf08cdc412",
   "metadata": {},
   "outputs": [
    {
     "name": "stdout",
     "output_type": "stream",
     "text": [
      "World\n",
      "2\n",
      "[1, 2, 3, 4, 5, 6, 7, 8]\n",
      "[2, 3, 4, 5, 6, 7]\n"
     ]
    }
   ],
   "source": [
    "# create list with two elements\n",
    "mylist = [\"Hello\", \"World\"]\n",
    "# unpack elements into seperate variables\n",
    "a, b = mylist\n",
    "print(b)\n",
    "\n",
    "# this works also with ranges\n",
    "zero, one, two, three = range(4)\n",
    "print(two)\n",
    "\n",
    "# if the number of input and output does not match you get an error\n",
    "#zero, stuff_inbetween, nine = range(10)\n",
    "\n",
    "# However, you can use the syntax with the *. \n",
    "# The same pattern can be used, for example, to extract the middle segment of a sequence \n",
    "zero, *stuff_inbetween, nine = range(10)\n",
    "print(stuff_inbetween)\n",
    "\n",
    "zero, one, *middle_part, eight, nine = range(10)\n",
    "print(middle_part)"
   ]
  },
  {
   "cell_type": "markdown",
   "id": "67a0ce49-cb07-47d0-bf67-8ad1fffe3e00",
   "metadata": {},
   "source": [
    "## Variables\n",
    "One of the most powerful features of a programming language is the ability to manipulate *variables*. \n",
    "A variable is a name that refers to a value."
   ]
  },
  {
   "cell_type": "code",
   "execution_count": 17,
   "id": "acda881c-3cb3-47f8-ba2a-e7e7b6b7ae9b",
   "metadata": {},
   "outputs": [],
   "source": [
    "message = \"good morning\"\n",
    "n = 17\n",
    "pi = 3.14\n",
    "names = [\"Lea\", \"Javier\", \"Tim\"]"
   ]
  },
  {
   "cell_type": "markdown",
   "id": "67eee4a2-0dce-4ccb-ae15-bb01b64d67da",
   "metadata": {},
   "source": [
    "Naming your variables: \n",
    "\n",
    "+ It is in general possible to use upper and lower case letters but could idea to start with lower case letters\n",
    "+ you can use `_` (underscore) e.g. when you have multiple words\n",
    "+ illegal namings create `syntaxerrors`\n",
    "\n",
    "  + start with numbers\n",
    "  + include illegal characters\n",
    "  + use of Python keywords (The interpreter uses keywords to recognize the structure of the program, and they cannot be used as variable names.)"
   ]
  },
  {
   "cell_type": "code",
   "execution_count": 19,
   "id": "dd16fff1-a6bc-48e8-b8ba-73e61df2437a",
   "metadata": {},
   "outputs": [
    {
     "ename": "SyntaxError",
     "evalue": "invalid decimal literal (2394285024.py, line 6)",
     "output_type": "error",
     "traceback": [
      "\u001b[1;36m  Cell \u001b[1;32mIn[19], line 6\u001b[1;36m\u001b[0m\n\u001b[1;33m    23seminar = 23 # starting with numbers\u001b[0m\n\u001b[1;37m     ^\u001b[0m\n\u001b[1;31mSyntaxError\u001b[0m\u001b[1;31m:\u001b[0m invalid decimal literal\n"
     ]
    }
   ],
   "source": [
    "# valid names\n",
    "name = \"Lena\"\n",
    "second_name = \"Marie\"\n",
    "\n",
    "# illegal variable names\n",
    "23seminar = 23 # starting with numbers\n",
    "m@xi      = 23 # illegal symbols\n",
    "class     = 23 # Python keywordShow all Python keywords."
   ]
  },
  {
   "cell_type": "markdown",
   "id": "5f8d7207-c5f5-4e1c-91bc-04f91b060cce",
   "metadata": {},
   "source": [
    "Show all Python keywords."
   ]
  },
  {
   "cell_type": "code",
   "execution_count": 23,
   "id": "06e1a09b-fb62-4697-b4c2-4570ea5db64f",
   "metadata": {},
   "outputs": [
    {
     "data": {
      "text/plain": [
       "['False',\n",
       " 'None',\n",
       " 'True',\n",
       " 'and',\n",
       " 'as',\n",
       " 'assert',\n",
       " 'async',\n",
       " 'await',\n",
       " 'break',\n",
       " 'class',\n",
       " 'continue',\n",
       " 'def',\n",
       " 'del',\n",
       " 'elif',\n",
       " 'else',\n",
       " 'except',\n",
       " 'finally',\n",
       " 'for',\n",
       " 'from',\n",
       " 'global',\n",
       " 'if',\n",
       " 'import',\n",
       " 'in',\n",
       " 'is',\n",
       " 'lambda',\n",
       " 'nonlocal',\n",
       " 'not',\n",
       " 'or',\n",
       " 'pass',\n",
       " 'raise',\n",
       " 'return',\n",
       " 'try',\n",
       " 'while',\n",
       " 'with',\n",
       " 'yield']"
      ]
     },
     "execution_count": 23,
     "metadata": {},
     "output_type": "execute_result"
    }
   ],
   "source": [
    "# import module and show all keywords\n",
    "import keyword\n",
    "\n",
    "keyword.kwlist"
   ]
  },
  {
   "cell_type": "markdown",
   "id": "62fabfb7-36d5-4d06-b91d-c3c42b6a549f",
   "metadata": {},
   "source": [
    "### Some special cases"
   ]
  },
  {
   "cell_type": "code",
   "execution_count": 16,
   "id": "de41ef69-4b27-46ca-b39a-781d16ac5957",
   "metadata": {},
   "outputs": [
    {
     "ename": "SyntaxError",
     "evalue": "leading zeros in decimal integer literals are not permitted; use an 0o prefix for octal integers (3479381675.py, line 3)",
     "output_type": "error",
     "traceback": [
      "\u001b[1;36m  Cell \u001b[1;32mIn[16], line 3\u001b[1;36m\u001b[0m\n\u001b[1;33m    010\u001b[0m\n\u001b[1;37m    ^\u001b[0m\n\u001b[1;31mSyntaxError\u001b[0m\u001b[1;31m:\u001b[0m leading zeros in decimal integer literals are not permitted; use an 0o prefix for octal integers\n"
     ]
    }
   ],
   "source": [
    "# type an integer with a leading zero:\n",
    "zip = 04456"
   ]
  },
  {
   "cell_type": "markdown",
   "id": "e7b664b6-37dd-4e80-950f-51a326f9870b",
   "metadata": {},
   "source": [
    "## Operators \n",
    "Operators are special symbols that represent computations like addition and multiplication. \n",
    "The values the operator is applied to are called *operands*.\n",
    "\n",
    "Operators for addition, subtraction, multiplication, division and exponentiation (see below)\n",
    "\n",
    "When more than one operator appears in an expression, the order of evaluation depends on the rules of precedence. For mathematical operators, Python follows mathematical convention.\n",
    "\n",
    "+ Parentheses have the highest precedence and can be used to force an expression to evaluate in the order you want.\n",
    "+ Exponentiation has the next highest precedence\n",
    "+ Multiplication and Division have the same precedence, which is higher than Addition and Subtraction, which also have the same precedence\n",
    "+ Operators with the same precedence are evaluated from left to right"
   ]
  },
  {
   "cell_type": "code",
   "execution_count": 24,
   "id": "e7c0c683-c342-493a-a1b7-578405e6b480",
   "metadata": {},
   "outputs": [
    {
     "data": {
      "text/plain": [
       "0"
      ]
     },
     "execution_count": 24,
     "metadata": {},
     "output_type": "execute_result"
    }
   ],
   "source": [
    "20 + 34   # addition\n",
    "30 - 1    # subtraction \n",
    "2 + 3 * 2 # multiplication and addition\n",
    "5**2      # exponentiation \n",
    "3/4       # division\n",
    "3//4      # floor division"
   ]
  },
  {
   "cell_type": "markdown",
   "id": "0bf8b441-f9e3-4163-836f-7192ddd40c52",
   "metadata": {},
   "source": [
    "In general, you can’t perform mathematical operations on strings, even if the strings\n",
    "look like numbers:"
   ]
  },
  {
   "cell_type": "code",
   "execution_count": 33,
   "id": "52c384da-a254-482f-9a4a-823fd775d559",
   "metadata": {},
   "outputs": [
    {
     "data": {
      "text/plain": [
       "' eggs eggs eggs'"
      ]
     },
     "execution_count": 33,
     "metadata": {},
     "output_type": "execute_result"
    }
   ],
   "source": [
    "# the following are illegal:\n",
    "\"2\" - \"1\"\n",
    "\"eggs\" / \"bacon\"\n",
    "\"third\" * \"four\"\n",
    "\n",
    "# but the + operator works with strings (it performs concatenation)\n",
    "\"eggs\" + \" bacon\"\n",
    "# the * operator works as well (it performs repetition)\n",
    "\" eggs\"*3"
   ]
  },
  {
   "cell_type": "markdown",
   "id": "8283c740-4c7f-4016-9d79-00dc678b86cf",
   "metadata": {},
   "source": [
    "### Some more Python operators (Recap)"
   ]
  },
  {
   "cell_type": "code",
   "execution_count": null,
   "id": "fad09249-7adf-44f6-9acd-6b75e401893c",
   "metadata": {},
   "outputs": [],
   "source": [
    "2**3         # exponentiation\n",
    "5+6          # addition\n",
    "5-6          # subtraction\n",
    "2*3          # Multiplication\n",
    "2/3          # division\n",
    "2//3         # floor division\n",
    "2%3          # remainder\n",
    "\n",
    "# Comparisons, including membership tests and identity tests\n",
    "family = [\"Papa\", \"Mama\", \"Kind\"]\n",
    "\"dog\" in family\n",
    "\"dog\" not in family\n",
    "type(family) is list\n",
    "type(family) is not int\n",
    "2 == 3\n",
    "2 <= 3\n",
    "3 > 2\n",
    "3 != 2\n",
    "\n",
    "# Boolean operators\n",
    "not True\n",
    "True and False\n",
    "True or False\n",
    "not (True or False)"
   ]
  },
  {
   "cell_type": "markdown",
   "id": "483f604c-9acc-4181-bb44-ce73e3d79583",
   "metadata": {},
   "source": [
    "# built-in functions\n",
    "\n",
    "In the context of programming, a function is a named sequence of statements that performs a computation. When you define a function, you specify the name and the sequence of statements. Later, you can “call” the function by name. We have already seen one example of a function call. \n",
    "\n",
    "It is common to say that a function “takes” an argument and “returns” a result. The result\n",
    "is called the return value"
   ]
  },
  {
   "cell_type": "code",
   "execution_count": 35,
   "id": "e8638ed9-8301-4055-abd3-3623ad05e89a",
   "metadata": {},
   "outputs": [
    {
     "data": {
      "text/plain": [
       "int"
      ]
     },
     "execution_count": 35,
     "metadata": {},
     "output_type": "execute_result"
    }
   ],
   "source": [
    "# example of a function call\n",
    "type(32) \n",
    "# name of function: type\n",
    "# expression in parentheses: argument of the function\n",
    "# result of the function: type of the argument"
   ]
  },
  {
   "cell_type": "markdown",
   "id": "2199b913-17fa-4351-9c90-5a3b826dc261",
   "metadata": {},
   "source": [
    "### Type Conversion Functions\n",
    "\n",
    "Python provides built-in functions that convert values from one type to another."
   ]
  },
  {
   "cell_type": "code",
   "execution_count": 45,
   "id": "9ac103f1-fac1-46f2-ae8e-f97056fdb5c0",
   "metadata": {},
   "outputs": [
    {
     "data": {
      "text/plain": [
       "'2'"
      ]
     },
     "execution_count": 45,
     "metadata": {},
     "output_type": "execute_result"
    }
   ],
   "source": [
    "# int function takes any value and converts it to an integer if it can\n",
    "two = int(\"2\")\n",
    "type(two)\n",
    "\n",
    "# if it cannot it will complain\n",
    "int(\"hello\")\n",
    "# behavior when using floats: \n",
    "# it doesn’t round off; it chops off the fraction part:\n",
    "int(2.7)\n",
    "\n",
    "# float converts integers and strings to floating-point numbers:\n",
    "float(32)\n",
    "\n",
    "# str converts its argument to a string:\n",
    "str(2)"
   ]
  },
  {
   "cell_type": "markdown",
   "id": "b935f393-c07c-495d-831b-40b60884e9cb",
   "metadata": {},
   "source": [
    "### Methods are also functions"
   ]
  },
  {
   "cell_type": "code",
   "execution_count": 86,
   "id": "ee810905-6f52-47dc-8bc2-65e9b222adcd",
   "metadata": {
    "scrolled": true
   },
   "outputs": [
    {
     "name": "stdout",
     "output_type": "stream",
     "text": [
      "Help on built-in function upper:\n",
      "\n",
      "upper() method of builtins.str instance\n",
      "    Return a copy of the string converted to uppercase.\n",
      "\n"
     ]
    },
    {
     "data": {
      "text/plain": [
       "'HELLO'"
      ]
     },
     "execution_count": 86,
     "metadata": {},
     "output_type": "execute_result"
    }
   ],
   "source": [
    "# example revisited\n",
    "\"Hello\".replace(\"e\",\"a\")\n",
    "\n",
    "# get methods related to a type\n",
    "dir(\"Hello\")\n",
    "# get help wrt a specific method\n",
    "help(\"Hello\".upper)\n",
    "# evaluate function using brackets at the end\n",
    "\"Hello\".upper()          # Note: Some functions don't have an argument "
   ]
  },
  {
   "cell_type": "markdown",
   "id": "9ea12eff-1257-45dc-91f9-ca4e42140b3e",
   "metadata": {},
   "source": [
    "# Exercises: Tuples, Strings, Lists, ..."
   ]
  },
  {
   "cell_type": "code",
   "execution_count": 8,
   "id": "7f5db4ca-3d3c-4240-ad80-e7fad708fc4e",
   "metadata": {
    "editable": true,
    "slideshow": {
     "slide_type": ""
    },
    "tags": []
   },
   "outputs": [
    {
     "name": "stdout",
     "output_type": "stream",
     "text": [
      "['The', 'quick', 'brown', 'fox', 'jumps', 'over', 'the', 'lazy', 'dog.']\n",
      "['The', 'quick', 'brown', 'fox', 'jumps', 'over', 'the', 'lazy', 'dog.']\n"
     ]
    },
    {
     "data": {
      "text/plain": [
       "True"
      ]
     },
     "execution_count": 8,
     "metadata": {},
     "output_type": "execute_result"
    }
   ],
   "source": [
    "# create a tuple of numbers and print the second item. \n",
    "var_tuple = (1,2,3,4)\n",
    "type(var_tuple)\n",
    "var_tuple[1]\n",
    "\n",
    "# add an item to your created tuple.\n",
    "var_tuple = var_tuple + (9,)\n",
    "var_tuple\n",
    "\n",
    "# convert a tuple into a string and check the type of your variable\n",
    "var_string = str(var_tuple)\n",
    "type(var_string)\n",
    "\n",
    "# count the number of 4 in the given tuple\n",
    "repeated = (1,2,3,4,4,4,5)\n",
    "repeated.count(4)\n",
    "\n",
    "# check whether \"sun\" is in weather \n",
    "weather = (\"rain\", \"snow\", \"sun\")\n",
    "\"sun\" in weather\n",
    "\n",
    "# reverse the tuple\n",
    "seq = (1,2,3,4,5,6)\n",
    "seq[::-1]\n",
    "\n",
    "# get a single string from two given strings, separated by a space and swap the first two characters of each string.\n",
    "# Sample String : 'abc', 'xyz'\n",
    "# Expected Result : 'xyc abz'\n",
    "s1 = \"abc\"\n",
    "s2 = \"xyz\"\n",
    "\n",
    "s2 + \" \" + s1\n",
    "\n",
    "# replace the substring 'not that poor' in the given string with \"good\" \n",
    "statement = 'The lyrics is not that poor!'\n",
    "statement.replace(\"not that poor\", \"good\")\n",
    "\n",
    "# remove the 3th index character from the string \"holliday\"\n",
    "i = 2\n",
    "example = \"holliday\"\n",
    "start = example[:i] \n",
    "end = example[i+1:]\n",
    "start + end\n",
    "\n",
    "# change the given string to a newly string where the first and last characters have been exchanged. \n",
    "season = \"rummes\"\n",
    "season[-1]+season[1:-1]+season[0]\n",
    "\n",
    "# remove characters that have even index values in the given string.\n",
    "string = \"aswugrzpbrxiusmep\"\n",
    "string[1::2]\n",
    "\n",
    "# create an HTML string with tags around the word.\n",
    "# Sample string and result :\n",
    "# 'Python' -> '<i>Python</i>'\n",
    "untaged_word = \"Python\"\n",
    "\"<i>\" + untaged_word + \"</i>\"\n",
    "\n",
    "# get the last part of the given string before the character \"/\".\n",
    "# sample: \"https://www.tu-dortmund.de/string\"\n",
    "# expected result: 'https://www.tu-dortmund.de'\n",
    "str1 = \"https://www.tu-dortmund.de/string\"\n",
    "str1.rsplit('/', 1)[0]\n",
    "\n",
    "\n",
    "# print the following numbers up to 2 decimal places. \n",
    "x = 3.1415926\n",
    "y = 12.9999\n",
    "format(x, \".2f\")\n",
    "format(y, \".2f\")\n",
    "\n",
    "# print the following positive and negative numbers with no decimal places. \n",
    "x = 3.1415926\n",
    "y = -12.9999\n",
    "format(x, \".0f\")\n",
    "format(y, \".0f\")\n",
    "\n",
    "# format a number with a percentage\n",
    "x = 0.25\n",
    "format(x, \".0%\")\n",
    "\n",
    "# Write a Python program to convert a given string into a list of words.\n",
    "# Sample Output:\n",
    "# ['The', 'quick', 'brown', 'fox', 'jumps', 'over', 'the', 'lazy', 'dog.']\n",
    "str1 = \"The quick brown fox jumps over the lazy dog.\"\n",
    "print(str1.split(' '))\n",
    "\n",
    "str1 = \"The-quick-brown-fox-jumps-over-the-lazy-dog.\"\n",
    "print(str1.split('-'))\n",
    "\n",
    "# sum all the items in a list. \n",
    "l1 = [1,2,3] \n",
    "\n",
    "sum = 0\n",
    "for i in l1:\n",
    "    sum += i\n",
    "    \n",
    "sum \n",
    "# or simply: sum(l1)\n",
    "\n",
    "# get the largest number from a list. \n",
    "l1 = [2,35,9,5]\n",
    "l1.sort()\n",
    "l1[-1]\n",
    "# or simply: max(l1)\n",
    "\n",
    "# check if a list is empty or not.  \n",
    "l1 = [2,2,7,9,4,3]\n",
    "l2 = []\n",
    "\n",
    "len(l1) == 0\n",
    "len(l2) == 0\n",
    "\n",
    "# find the intersection, union and symmetric difference of the following two sets\n",
    "s1 = {1,2,3,4,5}\n",
    "s2 = {5,6,7,8,9}\n",
    "\n",
    "s1.union(s2)\n",
    "s1.intersection(s2)\n",
    "s1.symmetric_difference(s2)\n",
    "\n",
    "# check whether set 1 is a subset of set 2\n",
    "set1 = {1,2,3}\n",
    "set2 = {1,2,3,4,5,6}\n",
    "\n",
    "set1 <= set2\n",
    "\n",
    "# check whether the file is a tex file\n",
    "filename1 = 'spam.tex'\n",
    "# use a method from the string type\n",
    "filename1.endswith('.tex')\n",
    "# use slices\n",
    "filename1[-4:] == \".tex\"\n",
    "\n",
    "# check whether file starts with \"lesson2\"\n",
    "filename2 = 'lesson1.ipynb'\n",
    "# use a method from the string type\n",
    "filename2.startswith('lesson2')\n",
    "# use slices\n",
    "filename2[:7].startswith(\"lesson2\")\n",
    "\n",
    "# check whether the url starts with either of the strings specified in the\n",
    "# variable choices\n",
    "choices = ['http:', 'ftp:']\n",
    "url = 'http://www.python.org'\n",
    "#url.startswith(choices) # will rise an error as choices is a list\n",
    "# hint: find out which variable type can be used as input for .startswith\n",
    "help(url.startswith)\n",
    "# hint: find out how you can transform a list into a tuple\n",
    "url.startswith(tuple(choices))\n",
    "\n",
    "# At what location in the text does the word 'random' start?\n",
    "text = \"this is just a random sentence for practice.\"\n",
    "# hint: use a string method\n",
    "text.find(\"random\")\n",
    "\n",
    "# Replace the word \"rain\" by the word \"snow\"\n",
    "weather = \"According to Tim it will rain today.\"\n",
    "weather.replace(\"rain\", \"snow\")"
   ]
  },
  {
   "cell_type": "markdown",
   "id": "6d67cc92-8a5f-4063-81f2-79a4616feb01",
   "metadata": {},
   "source": [
    "## Math functions\n",
    "\n",
    "Python has a math module that provides most of the familiar mathematical functions.\n",
    "A module is a file that contains a collection of related functions. \n",
    "Before we can use the module, we have to import it"
   ]
  },
  {
   "cell_type": "code",
   "execution_count": 49,
   "id": "e9842db2-da35-4388-8142-d0b8386d2e0a",
   "metadata": {},
   "outputs": [],
   "source": [
    "# import a module before we can use it\n",
    "import math   # This statement creates a module object named math."
   ]
  },
  {
   "cell_type": "markdown",
   "id": "bb87651c-60ee-42b8-a7af-fc53058c209b",
   "metadata": {},
   "source": [
    "The module object contains the functions and variables defined in the module. To access\n",
    "one of the functions, you have to specify the name of the module and the name of the\n",
    "function, separated by a dot. This format is called **dot notation**"
   ]
  },
  {
   "cell_type": "code",
   "execution_count": 65,
   "id": "14578432-8f3f-433d-b0ef-659857752d8b",
   "metadata": {},
   "outputs": [
    {
     "data": {
      "text/plain": [
       "1.0"
      ]
     },
     "execution_count": 65,
     "metadata": {},
     "output_type": "execute_result"
    }
   ],
   "source": [
    "math.log10(10) # computes logarithms base 10\n",
    "math.log(10)   # compute logarithm base e\n",
    "\n",
    "# sin and the other trigonometric functions (cos, tan, etc.) take arguments in radians\n",
    "degrees = 90.\n",
    "math.sin(degrees)\n",
    "#help(math.sin)\n",
    "# convert from degrees to radians, divide by 360 and multiply by 2π:\n",
    "radian = degrees / 360. * 2 * math.pi\n",
    "math.sin(radian)\n",
    "\n",
    "# when you want to see all function, methods that a module has, you can use dir()\n",
    "dir(math)"
   ]
  },
  {
   "cell_type": "markdown",
   "id": "9e1d6e60-8e96-43d5-8086-f554bf03eb61",
   "metadata": {},
   "source": [
    "## Composition\n",
    "\n",
    "One of the most useful features of programming languages is their ability to take small\n",
    "building blocks and compose them. \n",
    "For example, the argument of a function can be any kind of expression, including arithmetic operators:"
   ]
  },
  {
   "cell_type": "code",
   "execution_count": 68,
   "id": "36ec44c2-f1c4-481a-bf74-c61312283c90",
   "metadata": {},
   "outputs": [
    {
     "data": {
      "text/plain": [
       "2.0"
      ]
     },
     "execution_count": 68,
     "metadata": {},
     "output_type": "execute_result"
    }
   ],
   "source": [
    "math.sin(degrees / 360.0 * 2 * math.pi)\n",
    "math.exp(math.log(x+1))"
   ]
  },
  {
   "cell_type": "markdown",
   "id": "9a194cbe-8fec-4699-afe8-880ea6c4ff93",
   "metadata": {},
   "source": [
    "## Adding new functions\n",
    "\n",
    "So far, we have only been using the functions that come with Python, but it is also possible\n",
    "to add new functions. A function definition specifies the name of a new function and\n",
    "the sequence of statements that execute when the function is called.\n",
    "\n",
    "+ `def` is a keyword that indicates that this is a function definition.\n",
    "+ the name of the function `greetings`\n",
    "+ `name`is an argument of this function (but you can also leave it empty)\n",
    "+ The first line of the function definition is called the header; the rest is called the body\n",
    "+ The header has to end with a colon and the body has to be indented. By convention, the indentation is always four spaces"
   ]
  },
  {
   "cell_type": "code",
   "execution_count": 76,
   "id": "69e4037a-2264-4e13-b122-6ec57aec583b",
   "metadata": {},
   "outputs": [
    {
     "name": "stdout",
     "output_type": "stream",
     "text": [
      "Hello Tom,\n",
      "Hello Tom,\n",
      "Hello Tina,\n"
     ]
    }
   ],
   "source": [
    "def greetings(name):          # header\n",
    "    print(\"Hello \" + name + \",\")    # body (intended by 4 spaces)\n",
    "\n",
    "# Defining a function creates a variable with the same name.\n",
    "greetings\n",
    "# The value of greetings is a function object, which has type 'function'.\n",
    "type(greetings)\n",
    "# The syntax for calling the new function is the same as for built-in functions:\n",
    "greetings(name=\"Tom\")\n",
    "\n",
    "# Once you have defined a function, you can use it inside another function. \n",
    "def overall_welcome(name1, name2):\n",
    "    greetings(name1)\n",
    "    greetings(name2)\n",
    "\n",
    "overall_welcome(name1=\"Tom\", name2=\"Tina\")"
   ]
  },
  {
   "cell_type": "markdown",
   "id": "44349f9e-ccb1-4f7b-99d1-f7c388bd5022",
   "metadata": {},
   "source": [
    "## Definitions and Uses\n",
    "\n",
    "We creates a program containing two function definitions: greetings and overall_welcome.\n",
    "\n",
    "+ Function definitions get executed just like other statements, but the result creates function objects.\n",
    "+ The statements inside the function do not get executed until the function is called, and the function definition generates no output.\n",
    "\n",
    "## Parameters and Arguments\n",
    "\n",
    "Some of the built-in functions we have seen require arguments. \n",
    "\n",
    "+ For example, when you call math.sin you pass a number as an argument.\n",
    "+ Some functions take more than one argument: math.pow takes two, the base and the exponent."
   ]
  },
  {
   "cell_type": "code",
   "execution_count": 78,
   "id": "d379abd7-144a-463c-8d41-24c588b99d78",
   "metadata": {},
   "outputs": [
    {
     "name": "stdout",
     "output_type": "stream",
     "text": [
      "Help on built-in function sin in module math:\n",
      "\n",
      "sin(x, /)\n",
      "    Return the sine of x (measured in radians).\n",
      "\n",
      "Help on built-in function pow in module math:\n",
      "\n",
      "pow(x, y, /)\n",
      "    Return x**y (x to the power of y).\n",
      "\n"
     ]
    }
   ],
   "source": [
    "help(math.sin)\n",
    "help(math.pow)"
   ]
  },
  {
   "cell_type": "code",
   "execution_count": 91,
   "id": "f9b3c95b-5f18-4a2a-aea3-0c8d4d1a09af",
   "metadata": {},
   "outputs": [
    {
     "name": "stdout",
     "output_type": "stream",
     "text": [
      "Hello Tom,\n",
      "Hello TOM,\n"
     ]
    }
   ],
   "source": [
    "# Inside the function, the arguments are assigned to variables called parameters.\n",
    "# here the function assigns the argument \"Tom\" to the parameter \"name\"\n",
    "greetings(name=\"Tom\")\n",
    "\n",
    "# The argument is evaluated before the function is called\n",
    "# The name of the variable we pass as an argument (here: Tom) has nothing to do with \n",
    "# the name of the parameter (here: name).\n",
    "greetings(name=\"Tom\".upper())"
   ]
  },
  {
   "cell_type": "markdown",
   "id": "6b1cf775-e97c-46e9-9ec4-e5abdcc9b013",
   "metadata": {},
   "source": [
    "## Variables and Parameters are local\n",
    "\n",
    "When you create a variable inside a function, it is local, which means that it only exists\n",
    "inside the function."
   ]
  },
  {
   "cell_type": "code",
   "execution_count": 93,
   "id": "7565a340-a869-4c80-84f0-e52815299ccb",
   "metadata": {},
   "outputs": [
    {
     "name": "stdout",
     "output_type": "stream",
     "text": [
      "6\n"
     ]
    },
    {
     "ename": "NameError",
     "evalue": "name 'length_string' is not defined",
     "output_type": "error",
     "traceback": [
      "\u001b[1;31m---------------------------------------------------------------------------\u001b[0m",
      "\u001b[1;31mNameError\u001b[0m                                 Traceback (most recent call last)",
      "Cell \u001b[1;32mIn[93], line 7\u001b[0m\n\u001b[0;32m      3\u001b[0m     \u001b[38;5;28mprint\u001b[39m(length_string)\n\u001b[0;32m      5\u001b[0m count_letters(\u001b[38;5;124m\"\u001b[39m\u001b[38;5;124mabcdef\u001b[39m\u001b[38;5;124m\"\u001b[39m)\n\u001b[1;32m----> 7\u001b[0m \u001b[43mlength_string\u001b[49m\n",
      "\u001b[1;31mNameError\u001b[0m: name 'length_string' is not defined"
     ]
    }
   ],
   "source": [
    "# write function that counts the number letters in a string\n",
    "def count_letters(string):\n",
    "    length_string = len(string)\n",
    "    print(length_string)\n",
    "\n",
    "# evaluate function for an example argument\n",
    "count_letters(\"abcdef\")\n",
    "\n",
    "# however parameters are local, when we try to access the internal \n",
    "# variable length_string, we get a NameError\n",
    "length_string"
   ]
  },
  {
   "cell_type": "code",
   "execution_count": 99,
   "id": "5f406821-a358-4298-b713-f4f09a116dc0",
   "metadata": {},
   "outputs": [
    {
     "ename": "TypeError",
     "evalue": "first() missing 1 required positional argument: 'var'",
     "output_type": "error",
     "traceback": [
      "\u001b[1;31m---------------------------------------------------------------------------\u001b[0m",
      "\u001b[1;31mTypeError\u001b[0m                                 Traceback (most recent call last)",
      "Cell \u001b[1;32mIn[99], line 12\u001b[0m\n\u001b[0;32m      9\u001b[0m     second()\n\u001b[0;32m     10\u001b[0m     \u001b[38;5;28mprint\u001b[39m(\u001b[38;5;124m\"\u001b[39m\u001b[38;5;124mthree\u001b[39m\u001b[38;5;124m\"\u001b[39m)\n\u001b[1;32m---> 12\u001b[0m \u001b[43mthree\u001b[49m\u001b[43m(\u001b[49m\u001b[43m)\u001b[49m\n\u001b[0;32m     14\u001b[0m \u001b[38;5;66;03m# show line numbers with (shift + L) when you are outside the cell shift: arrow up\u001b[39;00m\n",
      "Cell \u001b[1;32mIn[99], line 9\u001b[0m, in \u001b[0;36mthree\u001b[1;34m()\u001b[0m\n\u001b[0;32m      8\u001b[0m \u001b[38;5;28;01mdef\u001b[39;00m \u001b[38;5;21mthree\u001b[39m():\n\u001b[1;32m----> 9\u001b[0m     \u001b[43msecond\u001b[49m\u001b[43m(\u001b[49m\u001b[43m)\u001b[49m\n\u001b[0;32m     10\u001b[0m     \u001b[38;5;28mprint\u001b[39m(\u001b[38;5;124m\"\u001b[39m\u001b[38;5;124mthree\u001b[39m\u001b[38;5;124m\"\u001b[39m)\n",
      "Cell \u001b[1;32mIn[97], line 5\u001b[0m, in \u001b[0;36msecond\u001b[1;34m()\u001b[0m\n\u001b[0;32m      4\u001b[0m \u001b[38;5;28;01mdef\u001b[39;00m \u001b[38;5;21msecond\u001b[39m():\n\u001b[1;32m----> 5\u001b[0m     \u001b[43mfirst\u001b[49m\u001b[43m(\u001b[49m\u001b[43m)\u001b[49m\n\u001b[0;32m      6\u001b[0m     \u001b[38;5;28mprint\u001b[39m(\u001b[38;5;124m\"\u001b[39m\u001b[38;5;124mtwo\u001b[39m\u001b[38;5;124m\"\u001b[39m)\n",
      "\u001b[1;31mTypeError\u001b[0m: first() missing 1 required positional argument: 'var'"
     ]
    }
   ],
   "source": [
    "def one(var):         # \"one\"\n",
    "    print(var)        # \"one\"\n",
    "\n",
    "def two():\n",
    "    first()\n",
    "    print(\"two\")\n",
    "\n",
    "def three():\n",
    "    second()\n",
    "    print(\"three\")\n",
    "\n",
    "three()\n",
    "\n",
    "# show line numbers with (shift + L) when you are outside the cell shift: arrow up"
   ]
  },
  {
   "cell_type": "markdown",
   "id": "f2403dda-fc8a-4cb8-a8d2-0cbacc75fdd4",
   "metadata": {},
   "source": [
    "If an error occurs during a function call, Python prints the name of the function, and\n",
    "the name of the function that called it, and the name of the function that called that, all\n",
    "the way back to __main__\n",
    "\n",
    "This list of functions is called a **traceback**. It tells you what program file the error oc\n",
    "curred in, and what line, and what functions were executing at the time. It also shows\n",
    "the line of code that caused the error"
   ]
  },
  {
   "cell_type": "markdown",
   "id": "604f9932-6ee5-4925-8c9b-b7d45a69d624",
   "metadata": {},
   "source": [
    "## Fruitful Functions and Void Functions\n",
    "\n",
    "+ Some of the functions we are using, such as the math functions, yield results; \n",
    "+ Other functions, like greetings (and all other functions we created so far), per form an action but don’t return a value. They are called **void functions**\n",
    "\n",
    "+ Void functions might display something on the screen or have some other effect, but they don’t have a return value.\n",
    "+ If you try to assign the result to a variable, you get a special value called None."
   ]
  },
  {
   "cell_type": "code",
   "execution_count": 107,
   "id": "a0467eaa-bc3c-48da-989c-2bd108fc1ea7",
   "metadata": {},
   "outputs": [
    {
     "name": "stdout",
     "output_type": "stream",
     "text": [
      "3\n",
      "3\n"
     ]
    },
    {
     "data": {
      "text/plain": [
       "NoneType"
      ]
     },
     "execution_count": 107,
     "metadata": {},
     "output_type": "execute_result"
    }
   ],
   "source": [
    "# evaluate function (it displays the number on the screen)\n",
    "count_letters(\"abc\")\n",
    "\n",
    "# assign function to a variable\n",
    "res = count_letters(\"abc\")\n",
    "# and print result: it is \"None\"\n",
    "print(res)\n",
    "# None is a special value that has its own type\n",
    "type(res)"
   ]
  },
  {
   "cell_type": "markdown",
   "id": "c8ad6031-23a2-473a-b207-1f7e56fb12cd",
   "metadata": {},
   "source": [
    "Thus in order to return something from the function we need to declare a return value using the keyword `return`"
   ]
  },
  {
   "cell_type": "code",
   "execution_count": 111,
   "id": "cb745202-a43a-412e-9757-7f62722d2ca8",
   "metadata": {},
   "outputs": [
    {
     "name": "stdout",
     "output_type": "stream",
     "text": [
      "3\n"
     ]
    },
    {
     "data": {
      "text/plain": [
       "int"
      ]
     },
     "execution_count": 111,
     "metadata": {},
     "output_type": "execute_result"
    }
   ],
   "source": [
    "# include return value into function\n",
    "def count_letters(string):\n",
    "    length_string = len(string)\n",
    "    #print(length_string)\n",
    "    return length_string\n",
    "\n",
    "# evaluate the function\n",
    "count_letters(\"abc\")\n",
    "# assign function to a variable\n",
    "res = count_letters(\"abc\")\n",
    "print(res)\n",
    "type(res)"
   ]
  },
  {
   "cell_type": "markdown",
   "id": "0158b560-4a10-4237-9215-b3c09a340792",
   "metadata": {},
   "source": [
    "# Exercises: Functions\n",
    "\n",
    "Some remarks / hints:"
   ]
  },
  {
   "cell_type": "code",
   "execution_count": 46,
   "id": "c491e7a7-0cc7-4fcb-95af-43d745997771",
   "metadata": {},
   "outputs": [
    {
     "name": "stdout",
     "output_type": "stream",
     "text": [
      "0\n",
      "1\n",
      "2\n",
      "3\n",
      "4\n",
      "w1\n",
      "w2\n",
      "w3\n",
      "0\n",
      "1\n",
      "2\n",
      "0\n",
      "1\n",
      "2\n",
      "3\n",
      "4\n",
      "5\n",
      "odd number\n",
      "Hello, I am 24 years old.\n",
      "The probability is 5%.\n"
     ]
    }
   ],
   "source": [
    "# writing a for-loop / while\n",
    "for i in range(5):\n",
    "    print(i)\n",
    "\n",
    "for word in [\"w1\", \"w2\", \"w3\"]:\n",
    "    print(word)\n",
    "\n",
    "for j in range(len([\"w1\", \"w2\", \"w3\"])):\n",
    "    print(j)\n",
    "\n",
    "i = -1\n",
    "while i < 5:\n",
    "    i += 1\n",
    "    print(i)\n",
    "\n",
    "# check condition with if-else\n",
    "n = 11\n",
    "if n % 2 == 0:\n",
    "    print(\"even number\")\n",
    "else:\n",
    "    print(\"odd number\")\n",
    "\n",
    "# print text with variable f-string\n",
    "n = 24\n",
    "p = 0.05\n",
    "print(f\"Hello, I am {n} years old.\")\n",
    "print(f\"The probability is {p:.0%}.\")"
   ]
  },
  {
   "cell_type": "code",
   "execution_count": 25,
   "id": "573c058d-e6f5-4c4d-acb5-abfe7ec74840",
   "metadata": {},
   "outputs": [
    {
     "name": "stdout",
     "output_type": "stream",
     "text": [
      "The number is outside the range [3, 9].\n"
     ]
    },
    {
     "data": {
      "text/plain": [
       "[1, 2, 3, 4, 5]"
      ]
     },
     "execution_count": 25,
     "metadata": {},
     "output_type": "execute_result"
    }
   ],
   "source": [
    "# Write a program to iterate the first 10 numbers, and in each iteration, \n",
    "# print the sum of the current and previous number.\n",
    "# Expected output:\n",
    "# current number: 0, previous number: 0, sum: 0\n",
    "# current number: 1, previous number: 0, sum: 1\n",
    "# current number: 2, previous number: 1, sum: 3\n",
    "# current number: 3, previous number: 2, sum: 5\n",
    "# current number: 4, previous number: 3, sum: 7\n",
    "# ...\n",
    "def print_sum(length):\n",
    "    for i in range(length):\n",
    "        current_number = i\n",
    "        if i == 0:\n",
    "            previous_number = 0\n",
    "        else:\n",
    "            previous_number = current_number-1\n",
    "        sum = current_number + previous_number\n",
    "        print(f\"current number: {current_number}, previous number: {previous_number}, sum: {sum}\")\n",
    "\n",
    "print_sum(10)\n",
    "\n",
    "# Write a program to accept a string from the user and display characters that are present at an even index number.\n",
    "# Example with expected output:\n",
    "# print_letters(\"pynative\")\n",
    "# pntv\n",
    "def print_letters(user_string):\n",
    "    print(user_string[0::2])\n",
    "\n",
    "print_letters(\"pynative\")\n",
    "\n",
    "# Write a function to return True if the first and last number of a given list is same. \n",
    "# If numbers are different then return False.\n",
    "# Example and expected output:\n",
    "# list1 = [1, 2, 3, 4, 1]\n",
    "# list2 = [3/10, 2/4, 0.5, 0.3]\n",
    "\n",
    "# number_check(list1)\n",
    "# True\n",
    "# number_check(list2)\n",
    "# True\n",
    "list1 = [1, 2, 3, 4, 1]\n",
    "list2 = [3/10, 2/4, 0.5, 0.3]\n",
    "\n",
    "def number_check(list):\n",
    "    if list[0] == list[-1]:\n",
    "        return True\n",
    "    else: \n",
    "        return False\n",
    "\n",
    "number_check(list2)\n",
    "\n",
    "# Write a Python function to sum all the numbers in a list.\n",
    "# Sample List : (8, 2, 3, 0, 7)\n",
    "# Expected Output : 20 \n",
    "\n",
    "def sum(numbers):\n",
    "    total = 0\n",
    "    for x in numbers:\n",
    "        total += x\n",
    "    return total\n",
    "\n",
    "sum((8, 2, 3, 0, 7))\n",
    "\n",
    "# Write a Python function to multiply all the numbers in a list.\n",
    "# Sample List : (8, 2, 3, -1, 7)\n",
    "# Expected Output : -336 \n",
    "\n",
    "def multiply(numbers):\n",
    "    total = 1\n",
    "    for x in numbers:\n",
    "        total *= x\n",
    "    return total\n",
    "\n",
    "multiply((8, 2, 3, -1, 7))\n",
    "\n",
    "# Write a Python program to reverse a string.\n",
    "# Sample String : \"1234abcd\"\n",
    "# Expected Output : \"dcba4321\"\n",
    "\n",
    "def string_reverse(str1):\n",
    "    rstr1 = ''\n",
    "    index = len(str1)\n",
    "    while index > 0:\n",
    "        rstr1 += str1[ index - 1 ]\n",
    "        index = index - 1\n",
    "    return rstr1\n",
    "    \n",
    "string_reverse('1234abcd')\n",
    "\n",
    "# Write a Python function to calculate the factorial of a number (a non-negative integer). \n",
    "# The function accepts the number as an argument\n",
    "\n",
    "def factorial(n):\n",
    "    if n == 0:\n",
    "        return 1\n",
    "    else:\n",
    "        return n * factorial(n-1)\n",
    "\n",
    "factorial(3)\n",
    "\n",
    "# Write a Python function to check whether a number falls within a given range. \n",
    "def test_range(n, intervall = [3, 9]):\n",
    "    if n in range(intervall[0],intervall[1]):\n",
    "        print(f\" {n} is in the range [{intervall[0]}, {intervall[1]}]\")\n",
    "    else :\n",
    "        print(f\"The number is outside the range [{intervall[0]}, {intervall[1]}].\")\n",
    "        \n",
    "test_range(10)\n",
    "\n",
    "# Write a Python function that takes a list and returns a new list with distinct elements from the first list.\n",
    "# Sample List : [1,2,3,3,3,3,4,5]\n",
    "# Unique List : [1, 2, 3, 4, 5]\n",
    "\n",
    "def unique_list(l):\n",
    "  x = []\n",
    "  for a in l:\n",
    "    if a not in x:\n",
    "      x.append(a)\n",
    "  return x\n",
    "\n",
    "unique_list([1,2,3,3,3,3,4,5])"
   ]
  },
  {
   "cell_type": "markdown",
   "id": "cd4f9e23-ddf1-4605-89da-74ede3678f51",
   "metadata": {},
   "source": [
    "## Importing with from\n",
    "\n",
    "Python provides two ways to import modules; we have already seen one:\n",
    "\n",
    "+ import module\n",
    "+ import constant/functions from module\n",
    "\n",
    "### Import module \n",
    "\n",
    "+ import math, you get a module object named `math`.\n",
    "+ The module object contains constants like `pi` and functions like `sin` and `exp`.\n",
    "+ But if you try to access `pi` directly, you get an error."
   ]
  },
  {
   "cell_type": "code",
   "execution_count": 121,
   "id": "5b84a82f-f84e-4d81-b310-e11cf92dc497",
   "metadata": {},
   "outputs": [
    {
     "data": {
      "text/plain": [
       "2.718281828459045"
      ]
     },
     "execution_count": 121,
     "metadata": {},
     "output_type": "execute_result"
    }
   ],
   "source": [
    "# import module\n",
    "import math\n",
    "# call constant without declaring module name results in an error\n",
    "#e\n",
    "# access e by using dot notation\n",
    "math.e\n",
    "\n",
    "# As an alternative, you can import an object from a module like this:\n",
    "from math import e\n",
    "\n",
    "e\n",
    "\n",
    "# You can also use the star operator in order to import everying from the module\n",
    "# but this is actually bad practices\n",
    "from math import *\n",
    "\n",
    "e"
   ]
  },
  {
   "cell_type": "code",
   "execution_count": 21,
   "id": "d87d366b-967c-4c4b-8aff-1329a14a9366",
   "metadata": {},
   "outputs": [
    {
     "name": "stdout",
     "output_type": "stream",
     "text": [
      "Help on built-in function startswith:\n",
      "\n",
      "startswith(...) method of builtins.str instance\n",
      "    S.startswith(prefix[, start[, end]]) -> bool\n",
      "    \n",
      "    Return True if S starts with the specified prefix, False otherwise.\n",
      "    With optional start, test S beginning at that position.\n",
      "    With optional end, stop comparing S at that position.\n",
      "    prefix can also be a tuple of strings to try.\n",
      "\n"
     ]
    }
   ],
   "source": [
    "# 4) separate the following line such that your final result looks like this\n",
    "# ['asdf', 'fjdk', 'afed', 'fjek', 'asdf', 'foo']\n",
    "line = 'asdf fjdk; afed,fjek,asdf,foo'\n",
    "import re\n",
    "# hint: use re.split to split for multiple delimiters\n",
    "# hint: the special expression for 'white space' is \\s\n",
    "splitted_line = re.split(\"[;,\\s]\", line)\n",
    "# remove empty strings (\"\") from the list\n",
    "# hint: use a method from the list type\n",
    "splitted_line.remove(\"\")\n",
    "# alternative\n",
    "splitted_line = re.split(\"[;,\\s]\\s*\", line)\n",
    "\n",
    "# 7) Find all \"python\" in the text irrespective of the case \n",
    "# (i.e., lower, upper, mixed case)\n",
    "text = \"UPPER PYTHON, lower python, Mixed Python\"\n",
    "# hint: use the findall from the re module\n",
    "re.findall(\"python\", text, flags=re.IGNORECASE)"
   ]
  }
 ],
 "metadata": {
  "kernelspec": {
   "display_name": "Python 3 (ipykernel)",
   "language": "python",
   "name": "python3"
  },
  "language_info": {
   "codemirror_mode": {
    "name": "ipython",
    "version": 3
   },
   "file_extension": ".py",
   "mimetype": "text/x-python",
   "name": "python",
   "nbconvert_exporter": "python",
   "pygments_lexer": "ipython3",
   "version": "3.10.12"
  }
 },
 "nbformat": 4,
 "nbformat_minor": 5
}
