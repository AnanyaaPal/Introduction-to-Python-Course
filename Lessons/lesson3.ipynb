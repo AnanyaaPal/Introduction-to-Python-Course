{
 "cells": [
  {
   "cell_type": "markdown",
   "id": "3186f609-7ed2-4364-8604-84a3b2bcd23b",
   "metadata": {
    "editable": true,
    "slideshow": {
     "slide_type": ""
    },
    "tags": []
   },
   "source": [
    "#| label: intro\n",
    "\n",
    "# Course material 2\n",
    "## Lesson 3 (25.10.2023)"
   ]
  },
  {
   "cell_type": "markdown",
   "id": "5f8280e6-0307-4d87-82fc-6b9c22f85c41",
   "metadata": {},
   "source": [
    "> Disclaimer: Material is taken from \n",
    "> \n",
    "> + The Alan Turing Institute from the course \"Research Software Engineering with Python\" Retrieved from: https://alan-turing-institute.github.io/rse-course/html/module01_introduction_to_python/01_05_dictionaries.html\n",
    "> + Downey, A. (2012). Think Python. \" O'Reilly Media, Inc.\"."
   ]
  },
  {
   "cell_type": "markdown",
   "id": "af486a6d-d240-4423-96c5-256d0c503e5e",
   "metadata": {},
   "source": [
    "## Dictionaries\n",
    "\n",
    "The last time we introduced among others lists, tuples, and ranges.<br/>\n",
    "We learned also how to access an element of these *sequence* types.<br/>\n",
    "Now, we will turn to a further type, the Python `dictionary`, where we will access an element (a `value`) by using a `key`.<br/>\n",
    "There are different ways of creating a dictionary:\n",
    "\n",
    "+ use curly brackets: `{\"key\": value}`\n",
    "+ create an empty dictionary and add then new entries: `dict = ()` and then `dict[\"key\"] = value`"
   ]
  },
  {
   "cell_type": "code",
   "execution_count": 4,
   "id": "d5f39b90-cc51-4913-8081-4057dbb44cdd",
   "metadata": {},
   "outputs": [
    {
     "data": {
      "text/plain": [
       "{'lea': 13, 'tom': 25, 'gerrit': 16}"
      ]
     },
     "execution_count": 4,
     "metadata": {},
     "output_type": "execute_result"
    }
   ],
   "source": [
    "# access an element from a list\n",
    "var_list = [13, 25, 16]\n",
    "# get the 2nd element\n",
    "var_list[1]\n",
    "\n",
    "# create a dict using curly brackets\n",
    "dict1 = {\"lea\": 13,\n",
    "         \"tom\": 25,\n",
    "         \"gerrit\": 16\n",
    "        }\n",
    "dict1"
   ]
  },
  {
   "cell_type": "markdown",
   "id": "1a6377de-9015-4c7e-ba71-e47db110cea2",
   "metadata": {},
   "source": [
    "An advantage of the dictionary is that you can create keys and values without knowing ahead which or how many keys you need.<br/>\n",
    "See the following example:"
   ]
  },
  {
   "cell_type": "code",
   "execution_count": 7,
   "id": "b96cf7e6-61c8-4de6-bb99-e3be90a6945a",
   "metadata": {},
   "outputs": [
    {
     "data": {
      "text/plain": [
       "{'h': 1, 'e': 1, 'l': 3, 'o': 2, 'W': 1, 'r': 1, 'd': 1}"
      ]
     },
     "execution_count": 7,
     "metadata": {},
     "output_type": "execute_result"
    }
   ],
   "source": [
    "def count_letters(string):\n",
    "    # create an empty dictionary\n",
    "    dic = dict()\n",
    "    # for each letter in the input string, do:\n",
    "    for letter in string:\n",
    "        # check whether the letter is already in the dictionary\n",
    "        if letter not in dic:\n",
    "            # create new entry and pass a count value of 1\n",
    "            dic[letter] = 1\n",
    "        # letter is already in the dictionary\n",
    "        else:\n",
    "            # set the counter for the respective letter one count up\n",
    "            dic[letter] += 1\n",
    "    # after each letter in string was checked return the dictionary        \n",
    "    return dic\n",
    "\n",
    "count_letters(\"helloWorld\")"
   ]
  },
  {
   "cell_type": "markdown",
   "id": "f2aec071-d226-4f55-ac65-b033ce7802e2",
   "metadata": {},
   "source": [
    "You can get all keys and value of a dictionary by using `keys()`and `values()` <br/>\n",
    "When you want access the value of a particular key you can do this similar as we learned it for sequences: `dict[key]` \n",
    "\n",
    "When you write a function and do not know which keys might be in a dictionary but you know all possible keys <br/>\n",
    "you can use the `get(key, default)` function. This function will return either the value of the key if the key exists <br/>\n",
    "or a default value (if specified) if the key does not exist."
   ]
  },
  {
   "cell_type": "code",
   "execution_count": 21,
   "id": "c53e4f43-7b56-47f9-b724-71ab5be4355c",
   "metadata": {},
   "outputs": [
    {
     "ename": "KeyError",
     "evalue": "'x'",
     "output_type": "error",
     "traceback": [
      "\u001b[1;31m---------------------------------------------------------------------------\u001b[0m",
      "\u001b[1;31mKeyError\u001b[0m                                  Traceback (most recent call last)",
      "Cell \u001b[1;32mIn[21], line 15\u001b[0m\n\u001b[0;32m     13\u001b[0m letter_dict\u001b[38;5;241m.\u001b[39mget(\u001b[38;5;124m\"\u001b[39m\u001b[38;5;124mx\u001b[39m\u001b[38;5;124m\"\u001b[39m, \u001b[38;5;241m0\u001b[39m)\n\u001b[0;32m     14\u001b[0m \u001b[38;5;66;03m# Note that the following will give an error\u001b[39;00m\n\u001b[1;32m---> 15\u001b[0m \u001b[43mletter_dict\u001b[49m\u001b[43m[\u001b[49m\u001b[38;5;124;43m\"\u001b[39;49m\u001b[38;5;124;43mx\u001b[39;49m\u001b[38;5;124;43m\"\u001b[39;49m\u001b[43m]\u001b[49m\n",
      "\u001b[1;31mKeyError\u001b[0m: 'x'"
     ]
    }
   ],
   "source": [
    "letter_dict = count_letters(\"helloworld\")\n",
    "# show all keys\n",
    "letter_dict.keys()\n",
    "# show all values\n",
    "letter_dict.values()\n",
    "\n",
    "# access the value of a specific key\n",
    "letter_dict[\"e\"]\n",
    "\n",
    "# problem might sometimes be that you don't know the exact keys but only all possible keys.\n",
    "# you can use the get function which returns the value of a key if it is in the dictionary\n",
    "# or a default value otherwise (here we set 0 as default value)\n",
    "letter_dict.get(\"x\", 0)\n",
    "# Note that the following will give an error\n",
    "letter_dict[\"x\"]"
   ]
  },
  {
   "cell_type": "markdown",
   "id": "f1b0e387-4d7d-4d73-9d21-416ab3a80a5f",
   "metadata": {},
   "source": [
    "Lists can appear as values in a dictionary. For example, if you were given a dictionary that maps from letters to frequencies, <br/>\n",
    "you might want to invert it; that is, create a dictionary that maps from frequencies to letters."
   ]
  },
  {
   "cell_type": "code",
   "execution_count": 25,
   "id": "34913a6d-c5ac-4052-abbc-de753b883355",
   "metadata": {},
   "outputs": [
    {
     "data": {
      "text/plain": [
       "{1: ['h', 'e', 'w', 'r', 'd'], 3: ['l'], 2: ['o']}"
      ]
     },
     "execution_count": 25,
     "metadata": {},
     "output_type": "execute_result"
    }
   ],
   "source": [
    "def invert_dict(dic_old):\n",
    "    # create an empty dictionary\n",
    "    dic_new = dict()\n",
    "    # for each key in the input dictionary, do:\n",
    "    for key in dic_old:\n",
    "        # get value of the  corresponding key from the old dict \n",
    "        val = dic_old[key]\n",
    "        # use the value as key for the new dict\n",
    "        # check whether the key (old value) does already exists\n",
    "        if val not in dic_new:\n",
    "            # if key is new, create an new entry in dict whereby\n",
    "            # values are of type list \n",
    "            dic_new[val] = [key]\n",
    "        else:\n",
    "            # if key already exists, add new value to existing list\n",
    "            dic_new[val].append(key)\n",
    "    # return reversed dictionary\n",
    "    return dic_new\n",
    "\n",
    "invert_dict(letter_dict)"
   ]
  },
  {
   "cell_type": "markdown",
   "id": "42431eec-007c-430e-9264-20007fec12d1",
   "metadata": {},
   "source": [
    "This system works fine if the keys are immutable. But if the keys are mutable, like lists,\n",
    "bad things happen. <br/> For example, when you create a key-value pair, Python hashes the\n",
    "key and stores it in the corresponding location. <br/> If you modify the key and then hash it\n",
    "again, it would go to a different location. <br/>\n",
    "In that case you might have two entries for the same key, or you might not be able to find a key.\n",
    "\n",
    "You can use only immutable types as keys (e.g., tuples)"
   ]
  },
  {
   "cell_type": "code",
   "execution_count": 31,
   "id": "808b66ff-1384-40a8-853e-a60253f1c120",
   "metadata": {},
   "outputs": [
    {
     "data": {
      "text/plain": [
       "{('key11', 'key12'): 1, ('key21', 'key22'): 2}"
      ]
     },
     "execution_count": 31,
     "metadata": {},
     "output_type": "execute_result"
    }
   ],
   "source": [
    "# lists are mutable therefore you will get an error\n",
    "{[\"key11\", \"key12\"]: 1,\n",
    " [\"key21\", \"key22\"]: 2}\n",
    "\n",
    "# but tuples are immutable and thus here it works\n",
    "{(\"key11\", \"key12\"): 1,\n",
    " (\"key21\", \"key22\"): 2}"
   ]
  },
  {
   "cell_type": "markdown",
   "id": "c3fda073-3432-4589-98e9-10cef142cef1",
   "metadata": {},
   "source": [
    "Dictionaries will retain the order of the elements as they are defined"
   ]
  },
  {
   "cell_type": "code",
   "execution_count": 36,
   "id": "eb6971e2-c31f-4661-bb3e-ea1369e41d9d",
   "metadata": {},
   "outputs": [
    {
     "data": {
      "text/plain": [
       "{'d': 1, 'e': 1, 'h': 1, 'l': 3, 'o': 2, 'r': 1, 'w': 1}"
      ]
     },
     "execution_count": 36,
     "metadata": {},
     "output_type": "execute_result"
    }
   ],
   "source": [
    "# print original order of keys\n",
    "letter_dict\n",
    "\n",
    "# create a new dictionary with keys ordered alphabetically\n",
    "ordered_dict = {key: letter_dict[key] for key in sorted(list(letter_dict.keys()))}    \n",
    "ordered_dict"
   ]
  },
  {
   "cell_type": "markdown",
   "id": "63103ddc-cf0e-4606-aa14-a6b75c88e1d3",
   "metadata": {},
   "source": [
    "## Sets\n",
    "\n",
    "A set is a list which cannot contain the same element twice. We can create a set in two ways:\n",
    "\n",
    "+ either by calling `set()` on any sequence, e.g. a list or string.\n",
    "+ or by defining one explicitely using curly brackets `{1,2,3,4}`"
   ]
  },
  {
   "cell_type": "code",
   "execution_count": 38,
   "id": "94c3ffe8-2f83-44df-8119-04bfc9f02a03",
   "metadata": {},
   "outputs": [
    {
     "data": {
      "text/plain": [
       "{1, 2, 3, 4}"
      ]
     },
     "execution_count": 38,
     "metadata": {},
     "output_type": "execute_result"
    }
   ],
   "source": [
    "# use the set function on a string\n",
    "set(\"hello world\")\n",
    "\n",
    "# create a set explicitely\n",
    "{1,2,3,4}\n"
   ]
  },
  {
   "cell_type": "markdown",
   "id": "e694aba6-4c96-4a65-a7f4-41b853432c0e",
   "metadata": {},
   "source": [
    "+ sets have no particular order\n",
    "+ you can join the elements of a set by using `join()`\n",
    "+ typical set operations can be applied"
   ]
  },
  {
   "cell_type": "code",
   "execution_count": 52,
   "id": "77bd2e8f-a97d-4f07-9603-81ca98553eed",
   "metadata": {},
   "outputs": [
    {
     "data": {
      "text/plain": [
       "{1, 2}"
      ]
     },
     "execution_count": 52,
     "metadata": {},
     "output_type": "execute_result"
    }
   ],
   "source": [
    "# create a string\n",
    "day = \"Today is Thursday\"\n",
    "# convert string into a set\n",
    "day_set = set(day)\n",
    "# as a set has no particular order it won't maintain the given order \n",
    "day_set\n",
    "# you can join the elements of a set again together\n",
    "\"\".join(day_set)\n",
    "\n",
    "# Set operations\n",
    "A = {1,2,3,4}\n",
    "B = {3,4,5,6}\n",
    "# intersection\n",
    "A & B\n",
    "A.union(B)\n",
    "# union\n",
    "A | B\n",
    "# difference\n",
    "A - B\n",
    "# symmetric difference\n",
    "A.symmetric_difference(B)"
   ]
  },
  {
   "cell_type": "markdown",
   "id": "40e5f1fa-2dce-4883-acd7-0f253770e401",
   "metadata": {},
   "source": [
    "## Data Structures\n",
    "\n",
    "We have already seen several ways of structuring data like nested lists, dictionaries, dictionaries with lists, etc. </br>\n",
    "When data become more and more complicated and complex nested data structures are very useful."
   ]
  },
  {
   "cell_type": "code",
   "execution_count": 65,
   "id": "43771c1a-f368-4112-a0af-b15d1ebbe127",
   "metadata": {},
   "outputs": [
    {
     "data": {
      "text/plain": [
       "[{'subject_id': 1,\n",
       "  'condition': 'A',\n",
       "  'item_id': 1,\n",
       "  'response': [2, 3, 5, 6, 3, 2, 1],\n",
       "  'missing': False,\n",
       "  'buffer': [2, 1]},\n",
       " {'subject_id': 2,\n",
       "  'condition': 'B',\n",
       "  'item_id': 1,\n",
       "  'response': [2, 5, 7, 3, 2, 5, 3],\n",
       "  'buffer': [2, 3]}]"
      ]
     },
     "execution_count": 65,
     "metadata": {},
     "output_type": "execute_result"
    }
   ],
   "source": [
    "# let us start by creating two dictionaries\n",
    "participant1 = {\"subject_id\": 1, \"condition\": \"A\", \"item_id\": 1}\n",
    "participant2 = {\"subject_id\": 2, \"condition\": \"B\", \"item_id\": 1}\n",
    "\n",
    "# now we collect the participants information in one list\n",
    "participants = [participant1, participant2]\n",
    "\n",
    "# each participant might have a list of responses they gave to a survey\n",
    "participant1[\"response\"] = [2,3,5,6,3,2,1]\n",
    "participant2[\"response\"] = [2,5,7,3,2,5,3]\n",
    "\n",
    "# probably we want to include some information whether a participant dropped out\n",
    "participant1[\"missing\"] = False\n",
    "participant1[\"missing\"] = False\n",
    "\n",
    "# and we can add even further information ...\n",
    "# the format on the RHS is called list comprehension and we will\n",
    "# come to this later in this session\n",
    "participant1[\"buffer\"] = [participant1[\"response\"][r] for r in [0,-1]]\n",
    "participant2[\"buffer\"] = [participant2[\"response\"][r] for r in [0,-1]]\n",
    "\n",
    "participants"
   ]
  },
  {
   "cell_type": "markdown",
   "id": "60d8e9cd-d305-4bd9-9ef1-21373b9cd3b4",
   "metadata": {},
   "source": [
    "# Control flows\n",
    "## Conditionality \n",
    "We almost always need the ability to check conditions and change the behavior of the program accordingly. <br/>\n",
    "Conditional statements give us this ability. \n",
    "\n",
    "### if-statement\n",
    "The simplest form is the `if` statement <br/>\n",
    "The boolean expression after if is called the condition. <br/>\n",
    "If it is true, then the indented statement gets executed. If not, nothing happens."
   ]
  },
  {
   "cell_type": "code",
   "execution_count": 70,
   "id": "813ba2fe-8af8-4c59-800d-a45970dbeb55",
   "metadata": {},
   "outputs": [],
   "source": [
    "#x = 2\n",
    "x = 3\n",
    "if x%2 == 0:              \n",
    "    print(\"x is even.\")"
   ]
  },
  {
   "cell_type": "markdown",
   "id": "c6495810-303a-416c-ab08-07a8b1a9c384",
   "metadata": {},
   "source": [
    "There is no limit on the number of statements that can appear in the body, but there has to be at least one. <br/> \n",
    "Occasionally, it is useful to have a body with no statements (usually as a place keeper for code you haven’t written yet). <br/>\n",
    "In that case, you can use the pass statement, which does nothing."
   ]
  },
  {
   "cell_type": "code",
   "execution_count": 71,
   "id": "3898d8b8-ba32-4c5b-9c6c-f84414b44200",
   "metadata": {},
   "outputs": [],
   "source": [
    "if x%2 != 0:\n",
    "    pass"
   ]
  },
  {
   "cell_type": "markdown",
   "id": "85ed660a-2d11-4bcc-80cb-d4ca9fbc5644",
   "metadata": {},
   "source": [
    "*Short remark on indentation*\n",
    "\n",
    "In Python, indentation is semantically significant. You can choose how much indentation to use, <br/>\n",
    "so long as you are consistent, but **four spaces** is conventional. Note: `<tab>` might work in 'good' editors, but not always.<br/>\n",
    "\n",
    "If there is problem with indentation in your code you will get an `IndentationError`"
   ]
  },
  {
   "cell_type": "code",
   "execution_count": 103,
   "id": "bee1b42b-1201-4f27-be25-bebcad43ce5f",
   "metadata": {},
   "outputs": [
    {
     "ename": "IndentationError",
     "evalue": "expected an indented block after 'if' statement on line 1 (891092710.py, line 2)",
     "output_type": "error",
     "traceback": [
      "\u001b[1;36m  Cell \u001b[1;32mIn[103], line 2\u001b[1;36m\u001b[0m\n\u001b[1;33m    print(\"someting\")\u001b[0m\n\u001b[1;37m    ^\u001b[0m\n\u001b[1;31mIndentationError\u001b[0m\u001b[1;31m:\u001b[0m expected an indented block after 'if' statement on line 1\n"
     ]
    }
   ],
   "source": [
    "if x > 2:\n",
    "print(\"someting\")"
   ]
  },
  {
   "cell_type": "markdown",
   "id": "1e72a17e-a67d-4291-a669-8262b12047c3",
   "metadata": {},
   "source": [
    "### if-else statment\n",
    "A second form of the if statement is alternative execution, in which there are two <br/>\n",
    "possibilities and the condition determines which one gets executed"
   ]
  },
  {
   "cell_type": "code",
   "execution_count": 72,
   "id": "fa879113-6c91-4d14-9fed-22aa89f39fcf",
   "metadata": {},
   "outputs": [
    {
     "name": "stdout",
     "output_type": "stream",
     "text": [
      "x is odd\n"
     ]
    }
   ],
   "source": [
    "x = 3\n",
    "\n",
    "if x%2 == 0:\n",
    "    print(\"x is even\")\n",
    "else: \n",
    "    print(\"x is odd\")"
   ]
  },
  {
   "cell_type": "markdown",
   "id": "19c7104c-cbb7-4442-aaa7-269577b256d1",
   "metadata": {},
   "source": [
    "Sometimes there are more than two possibilities and we need more than two branches. <br/>\n",
    "One way to express a computation like that is a chained conditional:"
   ]
  },
  {
   "cell_type": "code",
   "execution_count": 85,
   "id": "d99e4949-a1da-45c8-a1ea-71189ddbfb01",
   "metadata": {},
   "outputs": [
    {
     "name": "stdout",
     "output_type": "stream",
     "text": [
      "x is negative\n",
      "x is + infinity\n"
     ]
    }
   ],
   "source": [
    "x = -3\n",
    "\n",
    "if x > 0:\n",
    "    print (\"x is positive\")\n",
    "elif x < 0:\n",
    "    print(\"x is negative\")\n",
    "else:\n",
    "    print(\"x is zero\")\n",
    "\n",
    "# it is also possible to chain multiple elif statements\n",
    "x = float(\"inf\")\n",
    "\n",
    "if x > 0 and not float(\"inf\"):\n",
    "    print (\"x is positive\")\n",
    "elif x < 0:\n",
    "    print(\"x is negative\")\n",
    "elif x == float(\"inf\"):\n",
    "    print(r\"x is + infinity\")\n",
    "else:\n",
    "    print(\"x is zero\")"
   ]
  },
  {
   "cell_type": "markdown",
   "id": "0387800b-c534-44fc-9d86-255d66a09bad",
   "metadata": {},
   "source": [
    "One conditional can also be nested within the other one. Although the indentation of the statements makes the structure apparent, <br/>\n",
    "nested conditionals become difficult to read very quickly. \n",
    "In general, it is a good idea to avoid them when you can."
   ]
  },
  {
   "cell_type": "code",
   "execution_count": 89,
   "id": "f20a9df7-856a-4d9e-94ad-3e0bb7d42c7f",
   "metadata": {},
   "outputs": [
    {
     "name": "stdout",
     "output_type": "stream",
     "text": [
      "x is zero\n"
     ]
    }
   ],
   "source": [
    "x = 0\n",
    "\n",
    "if x  == float(\"inf\"):\n",
    "    print(r\"x is + infinity\")\n",
    "else:\n",
    "    if x > 0:\n",
    "        print (\"x is positive\")\n",
    "    elif x < 0:\n",
    "        print(\"x is negative\")\n",
    "    else:\n",
    "        print(\"x is zero\")"
   ]
  },
  {
   "cell_type": "markdown",
   "id": "985fe4c5-a916-4a3d-8439-114361b21301",
   "metadata": {},
   "source": [
    "### Recursion\n",
    "It is legal for one function to call another; it is also legal for a function to call itself. <br/>\n",
    "It may not be obvious why that is a good thing, but it turns out to be one of the most magical things a program can do."
   ]
  },
  {
   "cell_type": "code",
   "execution_count": 92,
   "id": "13f2f04d-0876-49af-b124-fe15e5974d3f",
   "metadata": {},
   "outputs": [
    {
     "name": "stdout",
     "output_type": "stream",
     "text": [
      "10\n",
      "9\n",
      "8\n",
      "7\n",
      "6\n",
      "5\n",
      "4\n",
      "3\n",
      "2\n",
      "1\n",
      "Blastoff!\n"
     ]
    }
   ],
   "source": [
    "def countdown(n):\n",
    "    if n <= 0:\n",
    "        print('Blastoff!')\n",
    "    else:\n",
    "        print(n)\n",
    "        countdown(n-1)\n",
    "\n",
    "countdown(10)"
   ]
  },
  {
   "cell_type": "markdown",
   "id": "65fbd4e0-267f-4321-a772-3569d8be9899",
   "metadata": {},
   "source": [
    "### Keyboard input\n",
    "The programs we have written so far are a bit rude in the sense that they accept no input <br/>\n",
    "from the user. They just do the same thing every time.\n",
    "Python provides the `input` function which gets input from the keyboard. <br/>\n",
    "When this function is called, the program stops and waits for the user to type something. <br/>\n",
    "When the user presses Return or Enter, the\n",
    "program resumes and raw_input returns what the user typed as a string."
   ]
  },
  {
   "cell_type": "code",
   "execution_count": 102,
   "id": "8dbc543e-5e99-4aa1-a455-021bb8f50def",
   "metadata": {},
   "outputs": [
    {
     "name": "stdin",
     "output_type": "stream",
     "text": [
      "What is your name? f\n"
     ]
    },
    {
     "name": "stdout",
     "output_type": "stream",
     "text": [
      "Hello, f\n"
     ]
    },
    {
     "name": "stdin",
     "output_type": "stream",
     "text": [
      "a = 3\n",
      "b = 53\n"
     ]
    },
    {
     "name": "stdout",
     "output_type": "stream",
     "text": [
      "3 + 53 = 56\n"
     ]
    }
   ],
   "source": [
    "def welcome():\n",
    "    name = input(\"What is your name?\")\n",
    "    print(\"Hello,\", name)\n",
    "\n",
    "welcome()\n",
    "\n",
    "def addition():\n",
    "    a = input(\"a =\")\n",
    "    b = input(\"b =\")\n",
    "    sum = int(a) + int(b)\n",
    "    print(f\"{a} + {b} = {sum}\")\n",
    "\n",
    "addition()"
   ]
  },
  {
   "cell_type": "markdown",
   "id": "372820a2-483b-4597-9e73-e8bc4aac60be",
   "metadata": {},
   "source": [
    "## Iteration\n",
    "\n",
    "An other aspect of control is *looping* over objects. </br>\n",
    "A statement for repetition is the `for`statement. \n",
    "\n",
    "The *syntax* of a `for` statement is similar to a function definition:\n",
    "\n",
    "+ It has a header that ends with a colon and\n",
    "+ an indented body.\n",
    "\n",
    "The body can contain any number of statements.</br>\n",
    "A `for` statement is sometimes called a *loop* because the flow of execution runs through the body and then loops back to the top. "
   ]
  },
  {
   "cell_type": "code",
   "execution_count": 7,
   "id": "b95a825f-eca7-47ea-b3cc-bc5dbdd6a18c",
   "metadata": {},
   "outputs": [
    {
     "name": "stdout",
     "output_type": "stream",
     "text": [
      "1\n",
      "2\n",
      "3\n",
      "4\n",
      "consonant\n",
      "vowel\n",
      "consonant\n",
      "consonant\n",
      "vowel\n",
      "Lea is 23 years old.\n",
      "Paul is 30 years old.\n",
      "Gerrit is 29 years old.\n",
      "0\n",
      "1\n",
      "2\n",
      "3\n",
      "4\n"
     ]
    }
   ],
   "source": [
    "my_list = [1,2,3,4]\n",
    "vowels = \"aeiou\"\n",
    "\n",
    "for i in my_list:\n",
    "    print(i)\n",
    "\n",
    "# Any sequence type is iterable:\n",
    "for letter in \"Hello\":\n",
    "    if letter in vowels:\n",
    "        print(\"vowel\")\n",
    "    else:\n",
    "        print(\"consonant\")\n",
    "\n",
    "# a dictionary is also iterable\n",
    "dic = {\"Lea\": 23, \"Paul\": 30, \"Gerrit\": 29}\n",
    "\n",
    "for name in dic:\n",
    "    print(f\"{name} is {dic[name]} years old.\")\n",
    "\n",
    "# a range is also iterable\n",
    "for i in range(5):\n",
    "    print(i)"
   ]
  },
  {
   "cell_type": "markdown",
   "id": "13e54b68-7706-448f-8060-34ac05c60294",
   "metadata": {},
   "source": [
    "Last time we learned about unpacking. You can use unpacking for iterations"
   ]
  },
  {
   "cell_type": "code",
   "execution_count": 6,
   "id": "b972914c-df5d-408c-b2d1-7bbf69589cb8",
   "metadata": {},
   "outputs": [
    {
     "name": "stdout",
     "output_type": "stream",
     "text": [
      "11\n",
      "4\n",
      "11\n",
      "4\n"
     ]
    }
   ],
   "source": [
    "triples = [[4, 11, 15], [39, 4, 18]]\n",
    "\n",
    "for first, middle, last in triples:\n",
    "    print(middle)\n",
    "\n",
    "# as we don't need the first and last item we can also use _ \n",
    "for _, middle, _ in triples:\n",
    "    print(middle)"
   ]
  },
  {
   "cell_type": "markdown",
   "id": "41858743-e82d-4e71-88f8-bddae930fe3e",
   "metadata": {},
   "source": [
    "### Break, Continue\n",
    "\n",
    "+ Continue skips to the next turn of a loop\n",
    "+ Break stops the loop early\n",
    "\n",
    "Sometimes you don’t know it’s time to end a loop until you get half way through the body. In that case you can use the break statement to jump out of the loop.\n",
    "\n",
    "For example, suppose you want to take input from the user until they type done. You could write:"
   ]
  },
  {
   "cell_type": "code",
   "execution_count": 11,
   "id": "b93fcf12-111e-4f41-a7e6-1197d75d8bf1",
   "metadata": {},
   "outputs": [
    {
     "name": "stdin",
     "output_type": "stream",
     "text": [
      ">  done\n"
     ]
    },
    {
     "name": "stdout",
     "output_type": "stream",
     "text": [
      "Done!\n",
      "1\n",
      "3\n",
      "5\n",
      "7\n"
     ]
    }
   ],
   "source": [
    "# The loop condition is `True`, which is always true, \n",
    "# so the loop runs until it hits the `break` statement.\n",
    "while True:\n",
    "    line = input('> ')\n",
    "    if line == 'done':\n",
    "        break\n",
    "    print(line)\n",
    "print('Done!')\n",
    "\n",
    "# another example with break and continue\n",
    "# for each number in the range from 1 to 8, do:\n",
    "# if number is eight stop\n",
    "# if number is even return directly to the top and skip the rest\n",
    "for n in range(9):\n",
    "    if n == 8:\n",
    "        break\n",
    "    if n % 2 == 0:\n",
    "        continue\n",
    "    print(n)"
   ]
  },
  {
   "cell_type": "markdown",
   "id": "9293a378-6eb3-4711-b8ac-a522286d7de3",
   "metadata": {},
   "source": [
    "### List comprehension\n",
    "\n",
    "If you write a for loop inside a pair of square brackets for a list, you magic up a list as defined. \n",
    "\n",
    "List comprehensions can make for more concise but hard to read code, so be careful."
   ]
  },
  {
   "cell_type": "code",
   "execution_count": 24,
   "id": "aa72e5fa-f16d-4236-a976-691a9e5a00ec",
   "metadata": {},
   "outputs": [
    {
     "name": "stdout",
     "output_type": "stream",
     "text": [
      "[0, 1, 4, 9, 8, 25, 12, 49]\n"
     ]
    },
    {
     "data": {
      "text/plain": [
       "[1, 3, 5]"
      ]
     },
     "execution_count": 24,
     "metadata": {},
     "output_type": "execute_result"
    }
   ],
   "source": [
    "# use a for loop\n",
    "# initialize an empty list\n",
    "res = []\n",
    "for x in range(8):\n",
    "    #if number is even: double\n",
    "    if x%2 == 0:\n",
    "        res.append(x + x)\n",
    "    # if number is odd: square\n",
    "    else:\n",
    "        res.append(x * x)\n",
    "\n",
    "print(res)\n",
    "\n",
    "# use list comprehension with if-else statement\n",
    "res = 0\n",
    "res2 = [x+x if x%2 == 0 else x*x for x in range(8)]\n",
    "res2\n",
    "\n",
    "# list comprehension with if statement\n",
    "# add one to the number if it is even\n",
    "res3 = [x+1 for x in range(5) if x%2 == 0]\n",
    "res3"
   ]
  },
  {
   "cell_type": "markdown",
   "id": "9de20c54-5e98-4896-ada7-340ba1f62940",
   "metadata": {},
   "source": [
    "If you write two for statements in a comprehension, </br> \n",
    "you get a single array generated over all the pairs:"
   ]
  },
  {
   "cell_type": "code",
   "execution_count": 26,
   "id": "00232844-b61a-42c1-bee4-c0c01f0996cc",
   "metadata": {},
   "outputs": [
    {
     "data": {
      "text/plain": [
       "[[0, 1, 2, 3], [-1, 0, 1, 2], [-2, -1, 0, 1], [-3, -2, -1, 0]]"
      ]
     },
     "execution_count": 26,
     "metadata": {},
     "output_type": "execute_result"
    }
   ],
   "source": [
    "# Difference between all combinations of two \n",
    "# number y and x\n",
    "[x - y for x in range(4) for y in range(4)]\n",
    "\n",
    "# If you want something more like a matrix, \n",
    "# you need to do two nested comprehensions\n",
    "[[x - y for x in range(4)] for y in range(4)]"
   ]
  },
  {
   "cell_type": "markdown",
   "id": "2ae63c8d-7919-46b3-8c5a-e3201b8b8d0b",
   "metadata": {},
   "source": [
    "There exists also something like a dictionary comprehension"
   ]
  },
  {
   "cell_type": "code",
   "execution_count": 28,
   "id": "01c5e1bf-04e3-4d22-93cf-dd633665e615",
   "metadata": {},
   "outputs": [
    {
     "data": {
      "text/plain": [
       "{'000': 0, '111': 1, '222': 2}"
      ]
     },
     "execution_count": 28,
     "metadata": {},
     "output_type": "execute_result"
    }
   ],
   "source": [
    "{(str(x)) * 3: x for x in range(3)}"
   ]
  }
 ],
 "metadata": {
  "kernelspec": {
   "display_name": "Python 3 (ipykernel)",
   "language": "python",
   "name": "python3"
  },
  "language_info": {
   "codemirror_mode": {
    "name": "ipython",
    "version": 3
   },
   "file_extension": ".py",
   "mimetype": "text/x-python",
   "name": "python",
   "nbconvert_exporter": "python",
   "pygments_lexer": "ipython3",
   "version": "3.10.12"
  }
 },
 "nbformat": 4,
 "nbformat_minor": 5
}
