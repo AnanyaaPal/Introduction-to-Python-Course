{
 "cells": [
  {
   "cell_type": "markdown",
   "id": "acbb2891-0d7c-4967-89fb-d92edf9b59cc",
   "metadata": {},
   "source": [
    "#| label: intro\n",
    "\n",
    "# Course material 3\n",
    "## Lesson 4 (02.11.2023)"
   ]
  },
  {
   "cell_type": "markdown",
   "id": "e8a9087e-7fdb-4353-b63c-c30af3c1e5c3",
   "metadata": {},
   "source": [
    "> Disclaimer: Material is taken from \n",
    "> \n",
    "> + The Alan Turing Institute from the course \"Research Software Engineering with Python\" Retrieved from: https://alan-turing-institute.github.io/rse-course/html/module01_introduction_to_python/01_05_dictionaries.html\n",
    "> + Downey, A. (2012). Think Python. \" O'Reilly Media, Inc.\"."
   ]
  },
  {
   "cell_type": "markdown",
   "id": "a4323f09-abe6-465a-8f56-33eb64fe9493",
   "metadata": {},
   "source": [
    "## List comprehension\n",
    "\n",
    "If you write a for loop inside a pair of square brackets for a list, you magic up a list as defined. \n",
    "\n",
    "List comprehensions can make for more concise but hard to read code, so be careful."
   ]
  },
  {
   "cell_type": "code",
   "execution_count": 341,
   "id": "7c5affa3-e32a-4077-a606-fa77a7dff1ba",
   "metadata": {},
   "outputs": [
    {
     "name": "stdout",
     "output_type": "stream",
     "text": [
      "[0, 1, 4, 9, 8, 25, 12, 49]\n"
     ]
    },
    {
     "data": {
      "text/plain": [
       "[1, 3, 5]"
      ]
     },
     "execution_count": 341,
     "metadata": {},
     "output_type": "execute_result"
    }
   ],
   "source": [
    "# use a for loop\n",
    "# initialize an empty list\n",
    "res = []\n",
    "for x in range(8):\n",
    "    #if number is even: double\n",
    "    if x%2 == 0:\n",
    "        res.append(x + x)\n",
    "    # if number is odd: square\n",
    "    else:\n",
    "        res.append(x * x)\n",
    "\n",
    "print(res)\n",
    "\n",
    "# use list comprehension with if-else statement\n",
    "res = 0\n",
    "res2 = [x+x if x%2 == 0 else x*x for x in range(8)]\n",
    "res2\n",
    "\n",
    "# list comprehension with if statement\n",
    "# add one to the number if it is even\n",
    "res3 = [x+1 for x in range(5) if x%2 == 0]\n",
    "res3"
   ]
  },
  {
   "cell_type": "markdown",
   "id": "6d9e763d-73ce-4032-8bb8-792b59ceee61",
   "metadata": {},
   "source": [
    "If you write two for statements in a comprehension, </br> \n",
    "you get a single array generated over all the pairs:"
   ]
  },
  {
   "cell_type": "code",
   "execution_count": 342,
   "id": "f79a8da6-8ec0-45d6-9bd0-860742652cd2",
   "metadata": {},
   "outputs": [
    {
     "data": {
      "text/plain": [
       "[[0, 1, 2, 3], [-1, 0, 1, 2], [-2, -1, 0, 1], [-3, -2, -1, 0]]"
      ]
     },
     "execution_count": 342,
     "metadata": {},
     "output_type": "execute_result"
    }
   ],
   "source": [
    "# Difference between all combinations of two \n",
    "# number y and x\n",
    "[x - y for x in range(4) for y in range(4)]\n",
    "\n",
    "# If you want something more like a matrix, \n",
    "# you need to do two nested comprehensions\n",
    "[[x - y for x in range(4)] for y in range(4)]"
   ]
  },
  {
   "cell_type": "markdown",
   "id": "2ed22e5b-8b17-4587-8972-963d7ad65d36",
   "metadata": {},
   "source": [
    "There exists also something like a dictionary comprehension"
   ]
  },
  {
   "cell_type": "code",
   "execution_count": 343,
   "id": "72bb7f93-a3f0-4354-ad55-a06f2bc86c89",
   "metadata": {},
   "outputs": [
    {
     "data": {
      "text/plain": [
       "{'000': 0, '111': 1, '222': 2}"
      ]
     },
     "execution_count": 343,
     "metadata": {},
     "output_type": "execute_result"
    }
   ],
   "source": [
    "{(str(x)) * 3: x for x in range(3)}"
   ]
  },
  {
   "cell_type": "markdown",
   "id": "37383c09-4589-4510-b61b-2da4cb26bd1e",
   "metadata": {},
   "source": [
    "## Functions\n",
    "Functions are one of the most important things that we can do in programming. </br>\n",
    "We can wrap code up in a function, so that we can repeatedly get just the information we want."
   ]
  },
  {
   "cell_type": "code",
   "execution_count": 344,
   "id": "f3f18a67-af20-42df-a0fb-fac01ff11cb4",
   "metadata": {},
   "outputs": [],
   "source": [
    "def print_sum(a,b):   # header\n",
    "    sum = a + b       # body\n",
    "    return sum"
   ]
  },
  {
   "cell_type": "markdown",
   "id": "e15b4381-3ab7-4784-b47a-92cc0728794b",
   "metadata": {},
   "source": [
    "**Some properties:**\n",
    "\n",
    "+ `def` is a keyword that indicates that this is a function definition\n",
    "+ `print_sum` is the name of the function\n",
    "+ `print_sum()`: the arguments that a function takes are stated within two round brackets. It is possible to have functions without any arguments. \n",
    "+ `a`, `b` are arguments of the function print_sum\n",
    "+ the *header* of a function ends with a *colon*\n",
    "+ all statements afterwards are written in the *body*\n",
    "+ the body has to be *intented* by four spaces\n",
    "+ enter an *empty line* to end a function\n",
    "+ the syntax for calling the new function is `print_sum(2,3)`"
   ]
  },
  {
   "cell_type": "code",
   "execution_count": 345,
   "id": "ea0fcf04-1a11-480f-ba6e-15a660e009c2",
   "metadata": {},
   "outputs": [
    {
     "name": "stdout",
     "output_type": "stream",
     "text": [
      "Hello Tom,\n",
      "Hello Tom,\n",
      "Hello Tina,\n"
     ]
    }
   ],
   "source": [
    "def greetings(name):          # header\n",
    "    print(\"Hello \" + name + \",\")    # body (intended by 4 spaces)\n",
    "\n",
    "# Defining a function creates a variable with the same name.\n",
    "greetings\n",
    "# The value of greetings is a function object, which has type 'function'.\n",
    "type(greetings)\n",
    "# The syntax for calling the new function is the same as for built-in functions:\n",
    "greetings(name=\"Tom\")\n",
    "\n",
    "# Once you have defined a function, you can use it inside another function. \n",
    "def overall_welcome(name1, name2):\n",
    "    greetings(name1)\n",
    "    greetings(name2)\n",
    "\n",
    "overall_welcome(name1=\"Tom\", name2=\"Tina\")"
   ]
  },
  {
   "cell_type": "markdown",
   "id": "214abe5f-6ede-465d-b641-9392e4ac63f9",
   "metadata": {},
   "source": [
    "## Parameters and Arguments\n",
    "\n",
    "Some of the built-in functions we have seen require arguments. \n",
    "\n",
    "+ For example, when you call math.sin you pass a number as an argument.\n",
    "+ Some functions take more than one argument: math.pow takes two, the base and the exponent."
   ]
  },
  {
   "cell_type": "code",
   "execution_count": 346,
   "id": "ee4425e0-868f-4b4a-a8b8-5ff00b49cf77",
   "metadata": {},
   "outputs": [
    {
     "name": "stdout",
     "output_type": "stream",
     "text": [
      "Help on built-in function sin in module math:\n",
      "\n",
      "sin(x, /)\n",
      "    Return the sine of x (measured in radians).\n",
      "\n",
      "Help on built-in function pow in module math:\n",
      "\n",
      "pow(x, y, /)\n",
      "    Return x**y (x to the power of y).\n",
      "\n"
     ]
    }
   ],
   "source": [
    "help(math.sin)\n",
    "help(math.pow)"
   ]
  },
  {
   "cell_type": "code",
   "execution_count": 347,
   "id": "db97f621-43f0-42e4-8ef4-53d7aa57e7d8",
   "metadata": {},
   "outputs": [
    {
     "name": "stdout",
     "output_type": "stream",
     "text": [
      "Hello Tom,\n",
      "Hello TOM,\n"
     ]
    }
   ],
   "source": [
    "# Inside the function, the arguments are assigned to variables called parameters.\n",
    "# here the function assigns the argument \"Tom\" to the parameter \"name\"\n",
    "greetings(name=\"Tom\")\n",
    "\n",
    "# The argument is evaluated before the function is called\n",
    "# The name of the variable we pass as an argument (here: Tom) has nothing to do with \n",
    "# the name of the parameter (here: name).\n",
    "greetings(name=\"Tom\".upper())"
   ]
  },
  {
   "cell_type": "markdown",
   "id": "c97467d5-a2ad-4278-8b2d-cd69fc67a0f6",
   "metadata": {},
   "source": [
    "## Variables and Parameters are local\n",
    "\n",
    "When you create a variable inside a function, it is local, which means that it only exists\n",
    "inside the function."
   ]
  },
  {
   "cell_type": "code",
   "execution_count": 348,
   "id": "ecbbd107-aa3d-4513-9a66-c20f622c0ab7",
   "metadata": {},
   "outputs": [
    {
     "name": "stdout",
     "output_type": "stream",
     "text": [
      "6\n"
     ]
    },
    {
     "ename": "NameError",
     "evalue": "name 'length_string' is not defined",
     "output_type": "error",
     "traceback": [
      "\u001b[1;31m---------------------------------------------------------------------------\u001b[0m",
      "\u001b[1;31mNameError\u001b[0m                                 Traceback (most recent call last)",
      "Cell \u001b[1;32mIn[348], line 11\u001b[0m\n\u001b[0;32m      7\u001b[0m count_letters(\u001b[38;5;124m\"\u001b[39m\u001b[38;5;124mabcdef\u001b[39m\u001b[38;5;124m\"\u001b[39m)\n\u001b[0;32m      9\u001b[0m \u001b[38;5;66;03m# however parameters are local, when we try to access the internal \u001b[39;00m\n\u001b[0;32m     10\u001b[0m \u001b[38;5;66;03m# variable length_string, we get a NameError\u001b[39;00m\n\u001b[1;32m---> 11\u001b[0m \u001b[43mlength_string\u001b[49m\n",
      "\u001b[1;31mNameError\u001b[0m: name 'length_string' is not defined"
     ]
    }
   ],
   "source": [
    "# write function that counts the number letters in a string\n",
    "def count_letters(string):\n",
    "    length_string = len(string)\n",
    "    print(length_string)\n",
    "\n",
    "# evaluate function for an example argument\n",
    "count_letters(\"abcdef\")\n",
    "\n",
    "# however parameters are local, when we try to access the internal \n",
    "# variable length_string, we get a NameError\n",
    "length_string"
   ]
  },
  {
   "cell_type": "code",
   "execution_count": 349,
   "id": "d7b0ce83-acf4-40b7-840f-bdd1cbdec668",
   "metadata": {},
   "outputs": [
    {
     "ename": "NameError",
     "evalue": "name 'second' is not defined",
     "output_type": "error",
     "traceback": [
      "\u001b[1;31m---------------------------------------------------------------------------\u001b[0m",
      "\u001b[1;31mNameError\u001b[0m                                 Traceback (most recent call last)",
      "Cell \u001b[1;32mIn[349], line 12\u001b[0m\n\u001b[0;32m      9\u001b[0m     second()\n\u001b[0;32m     10\u001b[0m     \u001b[38;5;28mprint\u001b[39m(\u001b[38;5;124m\"\u001b[39m\u001b[38;5;124mthree\u001b[39m\u001b[38;5;124m\"\u001b[39m)\n\u001b[1;32m---> 12\u001b[0m \u001b[43mthree\u001b[49m\u001b[43m(\u001b[49m\u001b[43m)\u001b[49m\n\u001b[0;32m     14\u001b[0m \u001b[38;5;66;03m# show line numbers with (shift + L) when you are outside the \u001b[39;00m\n\u001b[0;32m     15\u001b[0m \u001b[38;5;66;03m# cell shift: arrow up\u001b[39;00m\n",
      "Cell \u001b[1;32mIn[349], line 9\u001b[0m, in \u001b[0;36mthree\u001b[1;34m()\u001b[0m\n\u001b[0;32m      8\u001b[0m \u001b[38;5;28;01mdef\u001b[39;00m \u001b[38;5;21mthree\u001b[39m():\n\u001b[1;32m----> 9\u001b[0m     \u001b[43msecond\u001b[49m()\n\u001b[0;32m     10\u001b[0m     \u001b[38;5;28mprint\u001b[39m(\u001b[38;5;124m\"\u001b[39m\u001b[38;5;124mthree\u001b[39m\u001b[38;5;124m\"\u001b[39m)\n",
      "\u001b[1;31mNameError\u001b[0m: name 'second' is not defined"
     ]
    }
   ],
   "source": [
    "def one(var):        \n",
    "    print(var)        \n",
    "\n",
    "def two():\n",
    "    first()\n",
    "    print(\"two\")\n",
    "\n",
    "def three():\n",
    "    second()\n",
    "    print(\"three\")\n",
    "\n",
    "three()\n",
    "\n",
    "# show line numbers with (shift + L) when you are outside the \n",
    "# cell shift: arrow up"
   ]
  },
  {
   "cell_type": "markdown",
   "id": "4b5102eb-7012-43b5-aad1-7cd16f694fc2",
   "metadata": {},
   "source": [
    "If an error occurs during a function call, Python prints the name of the function, and\n",
    "the name of the function that called it, and the name of the function that called that, all\n",
    "the way back to __main__\n",
    "\n",
    "This list of functions is called a **traceback**. It tells you what program file the error occurred in, and what line, and functions were executing at the time. It also shows the line of code that caused the error."
   ]
  },
  {
   "cell_type": "markdown",
   "id": "77cd3ef9-6569-49be-a159-806d4cf1708d",
   "metadata": {},
   "source": [
    "## Fruitful Functions and Void Functions\n",
    "\n",
    "+ Some of the functions we are using, such as the math functions, yield results; \n",
    "+ Other functions, like greetings (and all other functions we created so far), perform an action but don’t return a value. They are called **void functions**\n",
    "\n",
    "+ Void functions might display something on the screen or have some other effect, but they don’t have a return value.\n",
    "+ If you try to assign the result of a void function to a variable, you get a special value called None."
   ]
  },
  {
   "cell_type": "code",
   "execution_count": 350,
   "id": "f4480bc6-0416-4315-8b1c-e559f61aad69",
   "metadata": {},
   "outputs": [
    {
     "name": "stdout",
     "output_type": "stream",
     "text": [
      "3\n",
      "3\n",
      "None\n"
     ]
    },
    {
     "data": {
      "text/plain": [
       "NoneType"
      ]
     },
     "execution_count": 350,
     "metadata": {},
     "output_type": "execute_result"
    }
   ],
   "source": [
    "# evaluate function (it displays the number on the screen)\n",
    "count_letters(\"abc\")\n",
    "\n",
    "# assign function to a variable\n",
    "res = count_letters(\"abc\")\n",
    "# and print result: it is \"None\"\n",
    "print(res)\n",
    "# None is a special value that has its own type\n",
    "type(res)"
   ]
  },
  {
   "cell_type": "markdown",
   "id": "65b6a727-08f3-4e6d-8262-6f31c68c5215",
   "metadata": {},
   "source": [
    "In order to return something from the function we need to declare a *return* value using the keyword `return`"
   ]
  },
  {
   "cell_type": "code",
   "execution_count": 351,
   "id": "29a0e3bc-08e9-4d0c-849a-0512bf2f743b",
   "metadata": {},
   "outputs": [
    {
     "name": "stdout",
     "output_type": "stream",
     "text": [
      "3\n"
     ]
    },
    {
     "data": {
      "text/plain": [
       "int"
      ]
     },
     "execution_count": 351,
     "metadata": {},
     "output_type": "execute_result"
    }
   ],
   "source": [
    "# include return value into function\n",
    "def count_letters(string):\n",
    "    length_string = len(string)\n",
    "    #print(length_string)\n",
    "    return length_string\n",
    "\n",
    "# evaluate the function\n",
    "count_letters(\"abc\")\n",
    "# assign function to a variable\n",
    "res = count_letters(\"abc\")\n",
    "print(res)\n",
    "type(res)"
   ]
  },
  {
   "cell_type": "markdown",
   "id": "b3a09289-f33b-4426-8568-b6002b589034",
   "metadata": {},
   "source": [
    "### Early return\n",
    "Return without arguments can be used to exit early from a function"
   ]
  },
  {
   "cell_type": "code",
   "execution_count": 352,
   "id": "411185bb-e20d-4724-acbc-1e160c3db50b",
   "metadata": {},
   "outputs": [
    {
     "name": "stdout",
     "output_type": "stream",
     "text": [
      "42\n",
      "dog\n",
      "cat - Stop!\n"
     ]
    }
   ],
   "source": [
    "def are_there_cats(my_input_list):\n",
    "    for element in my_input_list:\n",
    "        # If the string \"cat\" is in the list\n",
    "        if element == \"cat\":  \n",
    "            # print a statement to screen\n",
    "            print(\"cat - Stop!\")  \n",
    "            return\n",
    "        else:\n",
    "            print(element)\n",
    "\n",
    "are_there_cats([42, \"dog\",\"cat\", \"hamster\"])"
   ]
  },
  {
   "cell_type": "markdown",
   "id": "a38af020-361e-4d13-aa35-3c0f567afee1",
   "metadata": {},
   "source": [
    "## Function Arguments\n",
    "\n",
    "### Default arguments\n",
    "We can specify default values for parameters. \n",
    "\n",
    "+ In the following function *\"sum\"* is the default value for the parameter `method`\n",
    "+ If you have parameters with and without defaults in the same function, the default parameters have to be always last"
   ]
  },
  {
   "cell_type": "code",
   "execution_count": 353,
   "id": "3b824fea-7a49-4cb5-8c3f-c216650b220d",
   "metadata": {},
   "outputs": [
    {
     "ename": "SyntaxError",
     "evalue": "non-default argument follows default argument (3148641050.py, line 13)",
     "output_type": "error",
     "traceback": [
      "\u001b[1;36m  Cell \u001b[1;32mIn[353], line 13\u001b[1;36m\u001b[0m\n\u001b[1;33m    def test(method = \"default\", param):\u001b[0m\n\u001b[1;37m                                 ^\u001b[0m\n\u001b[1;31mSyntaxError\u001b[0m\u001b[1;31m:\u001b[0m non-default argument follows default argument\n"
     ]
    }
   ],
   "source": [
    "def math_operation(a, b, method = \"sum\"):\n",
    "    if method == \"sum\":\n",
    "        res = a + b\n",
    "    if method == \"product\":\n",
    "        res = a * b\n",
    "    return res\n",
    "\n",
    "# when nothing else is specified, the method \"sum\" is used\n",
    "math_operation(2,3)\n",
    "\n",
    "# the default parameter has to be always last\n",
    "# the following gives you an error\n",
    "def test(method = \"default\", param):\n",
    "    pass "
   ]
  },
  {
   "cell_type": "markdown",
   "id": "e5d8bc79-ad49-4231-9c09-018760e0039d",
   "metadata": {},
   "source": [
    "### Unpacking arguments"
   ]
  },
  {
   "cell_type": "code",
   "execution_count": 355,
   "id": "62298530-2974-4860-88ee-51f36de5710b",
   "metadata": {},
   "outputs": [
    {
     "name": "stdout",
     "output_type": "stream",
     "text": [
      "Tom is born in 1990\n",
      "Tom is born in 1990\n",
      "1990 is born in Tom\n",
      "Tom is born in 1990\n"
     ]
    },
    {
     "data": {
      "text/plain": [
       "('Tom', 1990)"
      ]
     },
     "execution_count": 355,
     "metadata": {},
     "output_type": "execute_result"
    }
   ],
   "source": [
    "def describe(name, year):\n",
    "    print(name,\"is born in\",year)\n",
    "    return name, year\n",
    "    \n",
    "# evaluate function with particular value for each argument\n",
    "describe(\"Tom\", 1990)\n",
    "\n",
    "# pass arguments as a list (or other sequence type)\n",
    "list_args = [\"Tom\", 1990]\n",
    "describe(*list_args)\n",
    "\n",
    "# but the order of the sequence is crucial\n",
    "describe(*list_args[::-1])\n",
    "\n",
    "# pass keyword arguments in terms of a dictionary\n",
    "# map arguments to matching key in dict (here order doesn't matter)\n",
    "dict_args = {\"year\": 1990, \"name\": \"Tom\"}\n",
    "describe(**dict_args)"
   ]
  },
  {
   "cell_type": "markdown",
   "id": "06b70f0d-4f7a-48e9-9d83-7ba50d83709b",
   "metadata": {},
   "source": [
    "Similiarly, if a * is used in the definition of a function, multiple arguments are absorbed into a list inside the function:"
   ]
  },
  {
   "cell_type": "code",
   "execution_count": 362,
   "id": "cf1f6699-0aca-4632-a15f-de669148c15a",
   "metadata": {},
   "outputs": [
    {
     "name": "stdout",
     "output_type": "stream",
     "text": [
      "Tom is born in 1990\n",
      "Tom is born in [1990, 123]\n"
     ]
    },
    {
     "data": {
      "text/plain": [
       "('Tom', 1990, 123)"
      ]
     },
     "execution_count": 362,
     "metadata": {},
     "output_type": "execute_result"
    }
   ],
   "source": [
    "def describe2(*args):\n",
    "    name, year = args\n",
    "    print(name,\"is born in\",year)\n",
    "    return args\n",
    "\n",
    "describe2(\"Tom\", 1990)\n",
    "\n",
    "# However due to the unpacking rule within the function\n",
    "# you would get an error when you use 3 arguments\n",
    "# but the following modification works (remember what we learned about \n",
    "# unpacking)\n",
    "def describe3(*sequence):\n",
    "    name, *year = sequence\n",
    "    print(name,\"is born in\",year)\n",
    "    return sequence\n",
    "\n",
    "describe3(\"Tom\", 1990, 123)"
   ]
  },
  {
   "cell_type": "markdown",
   "id": "33c1e304-1b92-422e-99ad-90474566a264",
   "metadata": {},
   "source": [
    "### Keyword arguments\n",
    "If two asterisks are used, named arguments are supplied inside the function as a dictionary:"
   ]
  },
  {
   "cell_type": "code",
   "execution_count": 363,
   "id": "9d7fe166-5be1-4db0-9d54-d724d28eb805",
   "metadata": {},
   "outputs": [
    {
     "data": {
      "text/plain": [
       "dict_items([('year', 1990), ('name', 'Tom')])"
      ]
     },
     "execution_count": 363,
     "metadata": {},
     "output_type": "execute_result"
    }
   ],
   "source": [
    "def test_kwargs(**args):\n",
    "    return args.items()\n",
    "\n",
    "test_kwargs(year=1990, name=\"Tom\")"
   ]
  },
  {
   "cell_type": "markdown",
   "id": "dfce8d59-1f80-4ff7-965a-275e9c8ad63d",
   "metadata": {},
   "source": [
    "## Using Libraries\n",
    "\n",
    "The python syntax to import a library is ``import``. To use a function or type from a python library, </br> \n",
    "rather than a built-in function or type, we have to import the library.\n",
    "\n",
    "Note that import does not install libraries. </br>\n",
    "It just makes them available to your current notebook session, assuming they are already installed. "
   ]
  },
  {
   "cell_type": "code",
   "execution_count": 364,
   "id": "5bf00eae-1df0-485f-861c-5e808c086cb8",
   "metadata": {},
   "outputs": [
    {
     "data": {
      "text/plain": [
       "0.5403023058681398"
      ]
     },
     "execution_count": 364,
     "metadata": {},
     "output_type": "execute_result"
    }
   ],
   "source": [
    "# built-in functions ca be directly called\n",
    "type(1.)\n",
    "\n",
    "# external libraries (= modules) have to be imported\n",
    "import math\n",
    "\n",
    "# libraries are called modules\n",
    "type(math)\n",
    "\n",
    "# The tools supplied by a module are attributes of the module\n",
    "dir(math)\n",
    "\n",
    "# use a function provided by a module through the dot notation\n",
    "math.cos(1)"
   ]
  },
  {
   "cell_type": "markdown",
   "id": "7a0aa349-44e1-4718-8888-63038d32d7c9",
   "metadata": {},
   "source": [
    "### Importing from modules\n",
    "\n",
    "It can be cumbersome to always type the full library name before calling a function.</br>\n",
    "There exists different ways to import a module\n",
    "\n",
    "+ import the module\n",
    "+ import a module and rename it (in general you are free to use any abbreviation but there are some standard abbreviations (conventions) for standard packages. You will always find the recommended abbreviation on the documentation site of each package. Examples are: `import numpy as np`, `import matplotlib as plt`, `import seaborn as sns`, `import tensorflow as tf`, ...)\n",
    "+ import a specific function of a module\n",
    "+ import everything (not recommended due to risk of name clashes and for readers of your code it is more difficult to figure out where a particular function comes from )"
   ]
  },
  {
   "cell_type": "code",
   "execution_count": 365,
   "id": "345ac2c8-2bfe-4c1d-80fb-27e9112c0700",
   "metadata": {},
   "outputs": [
    {
     "data": {
      "text/plain": [
       "2.718281828459045"
      ]
     },
     "execution_count": 365,
     "metadata": {},
     "output_type": "execute_result"
    }
   ],
   "source": [
    "# import module \n",
    "import math\n",
    "# access a function through dot notation and writing the whole module name \n",
    "math.sin(1)\n",
    "\n",
    "# import module and rename it\n",
    "import math as m\n",
    "# nuse the new module name for accessing a function\n",
    "m.sin(1)\n",
    "\n",
    "# import a specific function of a module\n",
    "from math import sin\n",
    "# the imported function can be used without reference to the module\n",
    "sin(1)\n",
    "# however this only applies for the imported and noth the other functions \n",
    "# this gives an error as not yet imported\n",
    "tan(1)\n",
    "# but the following works\n",
    "math.tan(1)\n",
    "\n",
    "# import everything using the * notation\n",
    "from math import *\n",
    "e"
   ]
  },
  {
   "cell_type": "markdown",
   "id": "8bd51cc3-ad11-4a1d-9e14-3ef729de5ed3",
   "metadata": {},
   "source": [
    "### Installing new modules\n",
    "\n",
    "We will install new packages using `conda`. </br>\n",
    "As an example we will install `numpy` in the following."
   ]
  },
  {
   "cell_type": "code",
   "execution_count": 366,
   "id": "47d9aad4-d1a6-47e0-9566-9bdf49f26b2c",
   "metadata": {},
   "outputs": [],
   "source": [
    "# first we can check whether numpy is already installed\n",
    "# we get an error that no module named 'numpy' exists\n",
    "import numpy as np"
   ]
  },
  {
   "cell_type": "markdown",
   "id": "f942c6f1-ae6b-4667-bd12-aac9f51cd93d",
   "metadata": {},
   "source": [
    "1. Open the installed GitBash Terminal\n",
    "(if you haven't done yet check out the prerequists on the course website)\n",
    "\n",
    "   <img src=\"graphics/GitBash_terminal.png\" width=\"400\"/>\n",
    "\n",
    "2. If you have already created a virual environment activate it (if not just skip this step, as we will talk about it in one of the upcoming sessions)\n",
    "   In my case the environment is called intro-python-course. When you have successfully activated your environment, the name should appear in round brackets. \n",
    "\n",
    "   <img src=\"graphics/GitBash_activate_env.png\" width=\"400\"/>\n",
    "\n",
    "2. Search for installation infos of the respective package ([https://numpy.org/install/](https://numpy.org/install/))\n",
    "3. We use the option: Install packages with `conda`\n",
    "4. Install `numpy` using the command `conda install numpy`\n",
    "\n",
    "   4.1 First the package information is retrieved \n",
    "\n",
    "    <img src=\"graphics/GitBash_install_numpy1.png\" width=\"400\"/>\n",
    "   \n",
    "   4.2 Then all dependencies are listed and you are asked whether the listed packages should really be installed: Type `y` (for yes)\n",
    "\n",
    "    <img src=\"graphics/GitBash_install_numpy2.png\" width=\"400\"/>\n",
    "   \n",
    "   4.3 Finally, the required packages are installed and at the end you should see sth. like the following output:\n",
    "   \n",
    "    <img src=\"graphics/GitBash_install_numpy4.png\" width=\"400\"/>\n",
    "\n",
    "Now the package is available and we can import it."
   ]
  },
  {
   "cell_type": "code",
   "execution_count": 367,
   "id": "098a2b74-012a-49eb-91c5-4a7847bfc0c7",
   "metadata": {},
   "outputs": [
    {
     "data": {
      "text/plain": [
       "array([[ 66,  72,  78],\n",
       "       [156, 171, 186]])"
      ]
     },
     "execution_count": 367,
     "metadata": {},
     "output_type": "execute_result"
    }
   ],
   "source": [
    "import numpy as np\n",
    "\n",
    "dir(np)\n",
    "\n",
    "# create two matrices\n",
    "A = np.array([[1,2,3],[4,5,6]])\n",
    "B = np.array([[7,8,9],[10,11,12],[13,14,15]])\n",
    "\n",
    "# matrix multiplication\n",
    "# shapes: (2,3) x (3,3) -> (2,3)\n",
    "A @ B"
   ]
  },
  {
   "cell_type": "markdown",
   "id": "3042cebe-e5bf-4290-9ed4-a9c79015ecea",
   "metadata": {},
   "source": [
    "## Working with files\n",
    "\n",
    "In order to be able to work with data, we need some knowledge about how to load and write files and to convert data. </br>\n",
    "We will start with writing a new plain-text file\n",
    "\n",
    "However, before we start with writing a new file, let us first check our current working directory and set it accordingly.</br>\n",
    "We can checkout our current working directory by using the `os` module. </br>\n",
    "The abbreviation os stands for \"operating system\". This module provides a portable way of using operating system dependent functionality."
   ]
  },
  {
   "cell_type": "code",
   "execution_count": 368,
   "id": "4e5d7f59-49b3-414f-8176-4307b9a64ede",
   "metadata": {},
   "outputs": [
    {
     "data": {
      "text/plain": [
       "'C:\\\\Users\\\\flobo\\\\OneDrive\\\\Dokumente\\\\Phd-teaching\\\\IntroPython\\\\python-intro\\\\material\\\\data_files'"
      ]
     },
     "execution_count": 368,
     "metadata": {},
     "output_type": "execute_result"
    }
   ],
   "source": [
    "# import module\n",
    "import os\n",
    "\n",
    "# get current working directory as string\n",
    "os.getcwd()"
   ]
  },
  {
   "cell_type": "markdown",
   "id": "7c21bdd3-e217-4a55-b9a0-6f92f5b62a41",
   "metadata": {},
   "source": [
    "Let us create a new folder where we want to save all our data files:\n",
    "\n",
    "+ open your terminal and go to the directory where you want to create your new folder and save the data files\n",
    "\n",
    "    + you can either use the terminal with the command `cd` and then the respective target directory: `cd your\\target\\directory`\n",
    "    + or open the target directory in your file explorer and select via right-click (control-click) the option \"open GitBash here\" (when you don't see it immediately you might first click on \"show further options\")\n",
    "\n",
    "+ now create a new folder by typing the following in your terminal `mkdir data_files` (here \"data_files\" is the name of the new folder)\n",
    "+ go to the new created folder `cd data_files`\n",
    "+ get current directory: `pwd` and copy it\n",
    "\n",
    "  <img src=\"graphics/GitBash_new_dir.png\" width=\"400\"/>\n",
    "\n",
    "+ Go back to your Jupyter notebook. Now, we will set the corresponding working directory"
   ]
  },
  {
   "cell_type": "code",
   "execution_count": 369,
   "id": "e1ba69f6-80a4-4ad2-b36b-4d1c739128a6",
   "metadata": {},
   "outputs": [
    {
     "data": {
      "text/plain": [
       "'C:\\\\Users\\\\flobo\\\\OneDrive\\\\Dokumente\\\\Phd-teaching\\\\IntroPython\\\\python-intro\\\\material\\\\data_files'"
      ]
     },
     "execution_count": 369,
     "metadata": {},
     "output_type": "execute_result"
    }
   ],
   "source": [
    "# with os.chdir you set the current working directory (here you can paste the respective file directory)\n",
    "# instead of using the absolute path (C:\\User\\flo\\OneDrive\\...), I use \"os.path.expanduser\" which will replace \"~\" by the user's home directory  \n",
    "os.chdir(os.path.expanduser(\"~/OneDrive/Dokumente/Phd-teaching/IntroPython/python-intro/material/data_files\"))\n",
    "\n",
    "# check whether our current working directory is indeed the correct one\n",
    "os.getcwd()\n"
   ]
  },
  {
   "cell_type": "markdown",
   "id": "859465cc-18ad-4e27-aa8a-2e6c9ab48812",
   "metadata": {},
   "source": [
    "Now we can write our file in this workind directory. If we put `%%writefile` at the top of a cell, instead of being interpreted as python, the cell contents are saved to disk"
   ]
  },
  {
   "cell_type": "code",
   "execution_count": 371,
   "id": "1e73a6c0-2c0f-4f3d-a230-df51b05b7a10",
   "metadata": {},
   "outputs": [
    {
     "name": "stdout",
     "output_type": "stream",
     "text": [
      "Overwriting mydata.txt\n"
     ]
    }
   ],
   "source": [
    "%%writefile mydata.txt\n",
    "A poet once said, 'The whole universe is in a glass of wine.'\n",
    "We will probably never know in what sense he meant it, \n",
    "for poets do not write to be understood. \n",
    "But it is true that if we look at a glass of wine closely enough we see the entire universe. \n",
    "There are the things of physics: the twisting liquid which evaporates depending\n",
    "on the wind and weather, the reflection in the glass;\n",
    "and our imagination adds atoms.\n",
    "The glass is a distillation of the earth's rocks,\n",
    "and in its composition we see the secrets of the universe's age, and the evolution of stars. \n",
    "What strange array of chemicals are in the wine? How did they come to be? \n",
    "There are the ferments, the enzymes, the substrates, and the products.\n",
    "There in wine is found the great generalization; all life is fermentation.\n",
    "Nobody can discover the chemistry of wine without discovering, \n",
    "as did Louis Pasteur, the cause of much disease.\n",
    "How vivid is the claret, pressing its existence into the consciousness that watches it!\n",
    "If our small minds, for some convenience, divide this glass of wine, this universe, \n",
    "into parts -- \n",
    "physics, biology, geology, astronomy, psychology, and so on -- \n",
    "remember that nature does not know it!\n",
    "\n",
    "So let us put it all back together, not forgetting ultimately what it is for.\n",
    "Let it give us one more final pleasure; drink it and forget it all!\n",
    "   - Richard Feynman"
   ]
  },
  {
   "cell_type": "markdown",
   "id": "d91d5ce5-eecd-44ee-b4ca-01490139901f",
   "metadata": {},
   "source": [
    "The file was saved in the current working directory. Let us check that this is indeed the case."
   ]
  },
  {
   "cell_type": "code",
   "execution_count": 372,
   "id": "47c1e0ac-faa2-41e0-8ccd-f8547adef0ce",
   "metadata": {},
   "outputs": [
    {
     "data": {
      "text/plain": [
       "True"
      ]
     },
     "execution_count": 372,
     "metadata": {},
     "output_type": "execute_result"
    }
   ],
   "source": [
    "# we can get a list of all files in a directory \n",
    "os.listdir(os.getcwd())\n",
    "\n",
    "# or if you want check explicitely whether a particular file exists in a directory:\n",
    "\"mydata.txt\" in os.listdir(os.getcwd())"
   ]
  },
  {
   "cell_type": "markdown",
   "id": "888ad7ee-4b68-429e-9b36-f941889edb0d",
   "metadata": {},
   "source": [
    "### Read and write text files\n",
    "\n",
    "We read the file using the `read` method"
   ]
  },
  {
   "cell_type": "code",
   "execution_count": 373,
   "id": "7ae1f228-46ea-4af9-a93a-d3ddea8f911d",
   "metadata": {},
   "outputs": [
    {
     "data": {
      "text/plain": [
       "\"A poet once said, 'The whole universe is in a glass of wine.'\\nWe will probably never know in what sense he meant it, \\nfor poets do not write to be understood. \\nBut it is true that if we look at a glass of wine closely enough we see the entire universe. \\nThere are the things of physics: the twisting liquid which evaporates depending\\non the wind and weather, the reflection in the glass;\\nand our imagination adds atoms.\\nThe glass is a distillation of the earth's rocks,\\nand in its composition we see the secrets of the universe's age, and the evolution of stars. \\nWhat strange array of chemicals are in the wine? How did they come to be? \\nThere are the ferments, the enzymes, the substrates, and the products.\\nThere in wine is found the great generalization; all life is fermentation.\\nNobody can discover the chemistry of wine without discovering, \\nas did Louis Pasteur, the cause of much disease.\\nHow vivid is the claret, pressing its existence into the consciousness that watches it!\\nIf our small minds, for some convenience, divide this glass of wine, this universe, \\ninto parts -- \\nphysics, biology, geology, astronomy, psychology, and so on -- \\nremember that nature does not know it!\\n\\nSo let us put it all back together, not forgetting ultimately what it is for.\\nLet it give us one more final pleasure; drink it and forget it all!\\n   - Richard Feynman\\n\""
      ]
     },
     "execution_count": 373,
     "metadata": {},
     "output_type": "execute_result"
    }
   ],
   "source": [
    "# open a file in the current directory\n",
    "dat = open(\"mydata.txt\")\n",
    "\n",
    "type(dat)\n",
    "\n",
    "# get just some specific characters\n",
    "dat.read(16)\n",
    "\n",
    "# read the remaining part of the file\n",
    "dat.read()\n",
    "\n",
    "# when we would like to read the entire file again\n",
    "# there is no more data...\n",
    "dat.read()\n",
    "\n",
    "# we have to rewind it\n",
    "dat.seek(0)\n",
    "dat.read()"
   ]
  },
  {
   "cell_type": "markdown",
   "id": "b7631f7e-d060-48f2-9432-0f4e7f33efc2",
   "metadata": {},
   "source": [
    "When we are finished with a file, we should `close` it again"
   ]
  },
  {
   "cell_type": "code",
   "execution_count": 374,
   "id": "094b0464-bedb-4fa1-8c67-f259924135db",
   "metadata": {},
   "outputs": [],
   "source": [
    "dat.close()"
   ]
  },
  {
   "cell_type": "markdown",
   "id": "9992b870-784b-449b-810a-8beacc9d0abc",
   "metadata": {},
   "source": [
    "Because it’s so easy to forget this, python provides a context manager to open a file, then close it automatically at the end of an indented block. You should pretty much always use this syntax for working with files."
   ]
  },
  {
   "cell_type": "code",
   "execution_count": 375,
   "id": "78fc6643-133a-4754-bcea-d4bab4c0ef9d",
   "metadata": {},
   "outputs": [
    {
     "data": {
      "text/plain": [
       "\"A poet once said, 'The whole universe is in a glass of wine.'\\nWe will probably never know in what sense he meant it, \\nfor poets do not write to be understood. \\nBut it is true that if we look at a glass of wine closely enough we see the entire universe. \\nThere are the things of physics: the twisting liquid which evaporates depending\\non the wind and weather, the reflection in the glass;\\nand our imagination adds atoms.\\nThe glass is a distillation of the earth's rocks,\\nand in its composition we see the secrets of the universe's age, and the evolution of stars. \\nWhat strange array of chemicals are in the wine? How did they come to be? \\nThere are the ferments, the enzymes, the substrates, and the products.\\nThere in wine is found the great generalization; all life is fermentation.\\nNobody can discover the chemistry of wine without discovering, \\nas did Louis Pasteur, the cause of much disease.\\nHow vivid is the claret, pressing its existence into the consciousness that watches it!\\nIf our small minds, for some convenience, divide this glass of wine, this universe, \\ninto parts -- \\nphysics, biology, geology, astronomy, psychology, and so on -- \\nremember that nature does not know it!\\n\\nSo let us put it all back together, not forgetting ultimately what it is for.\\nLet it give us one more final pleasure; drink it and forget it all!\\n   - Richard Feynman\\n\""
      ]
     },
     "execution_count": 375,
     "metadata": {},
     "output_type": "execute_result"
    }
   ],
   "source": [
    "with open(\"mydata.txt\") as file:\n",
    "    content = file.read()\n",
    "\n",
    "content"
   ]
  },
  {
   "cell_type": "markdown",
   "id": "f9e0653f-3197-4b5b-ae35-2d4dce53d543",
   "metadata": {},
   "source": [
    "Sofar we have seen the possibility to use ` %%writefile` in order to write a file but this is limited to the use of notebooks. When we want to work with Python scripts, we hav to use other tools."
   ]
  },
  {
   "cell_type": "code",
   "execution_count": 376,
   "id": "6fd37f6f-441d-48c3-b642-d15e916b1e64",
   "metadata": {},
   "outputs": [
    {
     "data": {
      "text/plain": [
       "'HelloWorld123'"
      ]
     },
     "execution_count": 376,
     "metadata": {},
     "output_type": "execute_result"
    }
   ],
   "source": [
    "# we make again use from the built-in function open\n",
    "# let us get some information about the function\n",
    "#help(open)\n",
    "\n",
    "# we see that open provides a further argument called \"mode\" which is per default mode = 'r'\n",
    "# 'r' stands for read and means the default mode when using \"open\" is reading the respective file\n",
    "with open(\"mydata.txt\", mode = 'r') as file:\n",
    "    content = file.read()\n",
    "\n",
    "content\n",
    "# we can also write a new file using the mode 'w' (for write)\n",
    "with open(\"new.txt\", mode = 'w') as new_file:\n",
    "    new_file.write(\"Hello\")\n",
    "    new_file.write(\"World\")\n",
    "    new_file.write(\"123\")\n",
    "\n",
    "# no let as read the new file\n",
    "with open(\"new.txt\", mode = 'r') as file:\n",
    "    new_content = file.read()\n",
    "\n",
    "new_content"
   ]
  },
  {
   "cell_type": "markdown",
   "id": "37e0e082-5b8e-45ea-95fd-60ba48acbd93",
   "metadata": {},
   "source": [
    "### Data sets from Python pkgs\n",
    "\n",
    "A lot of modules come with toy data sets that you can download. Examples are `pandas`, `scikit-learn`, `keras`. </br>\n",
    "Let us use the \"iris\" toy data set as provided by the module `scikit-learn`. \n",
    "\n",
    "+ First we install scikit-learn\n",
    "\n",
    "  + open your terminal\n",
    "  + (activate your conda environment if already created (see comments for installing numpy above)\n",
    "  + checkout how to install scikit learn using conda by visiting the package website ([https://scikit-learn.org/stable/install.html](https://scikit-learn.org/stable/install.html))\n",
    "  + install the module using the following command in your terminal: `conda install scikit-learn`\n",
    " \n",
    "+ Then we import the submodule `datasets` from `scikit-learn`"
   ]
  },
  {
   "cell_type": "code",
   "execution_count": 377,
   "id": "698920d4-d28a-4720-8bd4-3cf07db0fcc4",
   "metadata": {},
   "outputs": [
    {
     "data": {
      "text/plain": [
       "sklearn.utils._bunch.Bunch"
      ]
     },
     "execution_count": 377,
     "metadata": {},
     "output_type": "execute_result"
    }
   ],
   "source": [
    "# import submodule datasets from scikit-learn\n",
    "from sklearn import datasets\n",
    "\n",
    "# load iris data set\n",
    "iris_dat = datasets.load_iris()\n",
    "\n",
    "# inspect type of return object\n",
    "type(iris_dat)"
   ]
  },
  {
   "cell_type": "markdown",
   "id": "33b69810-5280-4507-9349-cc3950b2e5a7",
   "metadata": {},
   "source": [
    "The data set has the type *bunch*. \n",
    "*Bunch* is a type that extends dictionaries by enabling values to be accessed by key (1) or by an attribute (2)\n",
    "\n",
    "Learn more about the [type bunch](https://scikit-learn.org/stable/modules/generated/sklearn.utils.Bunch.html#sklearn.utils.Bunch)"
   ]
  },
  {
   "cell_type": "code",
   "execution_count": 378,
   "id": "ab3f2166-60cc-4569-8d0b-c77415026336",
   "metadata": {},
   "outputs": [
    {
     "data": {
      "text/plain": [
       "array([[5.1, 3.5, 1.4, 0.2],\n",
       "       [4.9, 3. , 1.4, 0.2],\n",
       "       [4.7, 3.2, 1.3, 0.2],\n",
       "       [4.6, 3.1, 1.5, 0.2],\n",
       "       [5. , 3.6, 1.4, 0.2],\n",
       "       [5.4, 3.9, 1.7, 0.4],\n",
       "       [4.6, 3.4, 1.4, 0.3],\n",
       "       [5. , 3.4, 1.5, 0.2],\n",
       "       [4.4, 2.9, 1.4, 0.2],\n",
       "       [4.9, 3.1, 1.5, 0.1]])"
      ]
     },
     "execution_count": 378,
     "metadata": {},
     "output_type": "execute_result"
    }
   ],
   "source": [
    "## get keys\n",
    "iris_dat.keys()\n",
    "# access values of key \"data\" (1) \n",
    "iris_dat[\"data\"]\n",
    "# access values by the attribute \"data\" (2)\n",
    "# show only first rows\n",
    "iris_dat.data[:10]"
   ]
  },
  {
   "cell_type": "markdown",
   "id": "34ecd087-9560-4071-926c-1389dbd9a42d",
   "metadata": {},
   "source": [
    "You probably wonder how to save a csv file locally. So far we only talked about .txt files. We could also use `open()` together with `csv.writer()` from the `csv` module. </br> \n",
    "But this is unnecessarily complicated.\n",
    "I will use the [polars](https://pola-rs.github.io/polars/) module instead which makes things clearly easier. \n",
    "\n",
    "Here a short primer: </br> \n",
    "(install polars by entering in your terminal: `conda install polars`)"
   ]
  },
  {
   "cell_type": "code",
   "execution_count": 379,
   "id": "9f153f3e-9f5a-4044-9413-eb43f09bfe0b",
   "metadata": {},
   "outputs": [
    {
     "data": {
      "text/html": [
       "<div><style>\n",
       ".dataframe > thead > tr > th,\n",
       ".dataframe > tbody > tr > td {\n",
       "  text-align: right;\n",
       "  white-space: pre-wrap;\n",
       "}\n",
       "</style>\n",
       "<small>shape: (150, 5)</small><table border=\"1\" class=\"dataframe\"><thead><tr><th>sepal length (cm)</th><th>sepal width (cm)</th><th>petal length (cm)</th><th>petal width (cm)</th><th>classes</th></tr><tr><td>f64</td><td>f64</td><td>f64</td><td>f64</td><td>str</td></tr></thead><tbody><tr><td>5.1</td><td>3.5</td><td>1.4</td><td>0.2</td><td>&quot;setosa&quot;</td></tr><tr><td>4.9</td><td>3.0</td><td>1.4</td><td>0.2</td><td>&quot;setosa&quot;</td></tr><tr><td>4.7</td><td>3.2</td><td>1.3</td><td>0.2</td><td>&quot;setosa&quot;</td></tr><tr><td>4.6</td><td>3.1</td><td>1.5</td><td>0.2</td><td>&quot;setosa&quot;</td></tr><tr><td>5.0</td><td>3.6</td><td>1.4</td><td>0.2</td><td>&quot;setosa&quot;</td></tr><tr><td>5.4</td><td>3.9</td><td>1.7</td><td>0.4</td><td>&quot;setosa&quot;</td></tr><tr><td>4.6</td><td>3.4</td><td>1.4</td><td>0.3</td><td>&quot;setosa&quot;</td></tr><tr><td>5.0</td><td>3.4</td><td>1.5</td><td>0.2</td><td>&quot;setosa&quot;</td></tr><tr><td>4.4</td><td>2.9</td><td>1.4</td><td>0.2</td><td>&quot;setosa&quot;</td></tr><tr><td>4.9</td><td>3.1</td><td>1.5</td><td>0.1</td><td>&quot;setosa&quot;</td></tr><tr><td>5.4</td><td>3.7</td><td>1.5</td><td>0.2</td><td>&quot;setosa&quot;</td></tr><tr><td>4.8</td><td>3.4</td><td>1.6</td><td>0.2</td><td>&quot;setosa&quot;</td></tr><tr><td>&hellip;</td><td>&hellip;</td><td>&hellip;</td><td>&hellip;</td><td>&hellip;</td></tr><tr><td>6.0</td><td>3.0</td><td>4.8</td><td>1.8</td><td>&quot;virginica&quot;</td></tr><tr><td>6.9</td><td>3.1</td><td>5.4</td><td>2.1</td><td>&quot;virginica&quot;</td></tr><tr><td>6.7</td><td>3.1</td><td>5.6</td><td>2.4</td><td>&quot;virginica&quot;</td></tr><tr><td>6.9</td><td>3.1</td><td>5.1</td><td>2.3</td><td>&quot;virginica&quot;</td></tr><tr><td>5.8</td><td>2.7</td><td>5.1</td><td>1.9</td><td>&quot;virginica&quot;</td></tr><tr><td>6.8</td><td>3.2</td><td>5.9</td><td>2.3</td><td>&quot;virginica&quot;</td></tr><tr><td>6.7</td><td>3.3</td><td>5.7</td><td>2.5</td><td>&quot;virginica&quot;</td></tr><tr><td>6.7</td><td>3.0</td><td>5.2</td><td>2.3</td><td>&quot;virginica&quot;</td></tr><tr><td>6.3</td><td>2.5</td><td>5.0</td><td>1.9</td><td>&quot;virginica&quot;</td></tr><tr><td>6.5</td><td>3.0</td><td>5.2</td><td>2.0</td><td>&quot;virginica&quot;</td></tr><tr><td>6.2</td><td>3.4</td><td>5.4</td><td>2.3</td><td>&quot;virginica&quot;</td></tr><tr><td>5.9</td><td>3.0</td><td>5.1</td><td>1.8</td><td>&quot;virginica&quot;</td></tr></tbody></table></div>"
      ],
      "text/plain": [
       "shape: (150, 5)\n",
       "┌───────────────────┬──────────────────┬───────────────────┬──────────────────┬───────────┐\n",
       "│ sepal length (cm) ┆ sepal width (cm) ┆ petal length (cm) ┆ petal width (cm) ┆ classes   │\n",
       "│ ---               ┆ ---              ┆ ---               ┆ ---              ┆ ---       │\n",
       "│ f64               ┆ f64              ┆ f64               ┆ f64              ┆ str       │\n",
       "╞═══════════════════╪══════════════════╪═══════════════════╪══════════════════╪═══════════╡\n",
       "│ 5.1               ┆ 3.5              ┆ 1.4               ┆ 0.2              ┆ setosa    │\n",
       "│ 4.9               ┆ 3.0              ┆ 1.4               ┆ 0.2              ┆ setosa    │\n",
       "│ 4.7               ┆ 3.2              ┆ 1.3               ┆ 0.2              ┆ setosa    │\n",
       "│ 4.6               ┆ 3.1              ┆ 1.5               ┆ 0.2              ┆ setosa    │\n",
       "│ …                 ┆ …                ┆ …                 ┆ …                ┆ …         │\n",
       "│ 6.3               ┆ 2.5              ┆ 5.0               ┆ 1.9              ┆ virginica │\n",
       "│ 6.5               ┆ 3.0              ┆ 5.2               ┆ 2.0              ┆ virginica │\n",
       "│ 6.2               ┆ 3.4              ┆ 5.4               ┆ 2.3              ┆ virginica │\n",
       "│ 5.9               ┆ 3.0              ┆ 5.1               ┆ 1.8              ┆ virginica │\n",
       "└───────────────────┴──────────────────┴───────────────────┴──────────────────┴───────────┘"
      ]
     },
     "execution_count": 379,
     "metadata": {},
     "output_type": "execute_result"
    }
   ],
   "source": [
    "from polars import DataFrame\n",
    "# convert array to data frame\n",
    "df = DataFrame(iris_dat[\"data\"])\n",
    "# add column with iris types\n",
    "df = df.with_columns(\n",
    "    classes = pl.Series(iris_dat[\"target\"]).map_dict({i: iris_dat[\"target_names\"][i] for i in range(3)}).alias(\"classes\")\n",
    ")\n",
    "# set column names\n",
    "df.columns = iris_dat[\"feature_names\"] + [\"classes\"]\n",
    "\n",
    "# save data frame\n",
    "df.write_csv(\"iris.csv\", has_header = True)\n",
    "\n",
    "# load data frame\n",
    "get_iris = polars.read_csv(\"iris.csv\", has_header = True)\n",
    "get_iris"
   ]
  },
  {
   "cell_type": "markdown",
   "id": "0419973e-2069-4149-a493-d74735827b8e",
   "metadata": {},
   "source": [
    "Example for descriptive statistics and data visualization"
   ]
  },
  {
   "cell_type": "code",
   "execution_count": 380,
   "id": "7a26aac9-200f-4c40-9204-99c829bb58f4",
   "metadata": {},
   "outputs": [
    {
     "name": "stdout",
     "output_type": "stream",
     "text": [
      "shape: (12, 5)\n",
      "┌────────────┬───────────────────┬───────────────┬───────────┬───────────────┐\n",
      "│ classes    ┆ feature           ┆ cm_25quantile ┆ cm_median ┆ cm_75quantile │\n",
      "│ ---        ┆ ---               ┆ ---           ┆ ---       ┆ ---           │\n",
      "│ str        ┆ str               ┆ f64           ┆ f64       ┆ f64           │\n",
      "╞════════════╪═══════════════════╪═══════════════╪═══════════╪═══════════════╡\n",
      "│ versicolor ┆ petal length (cm) ┆ 4.0           ┆ 4.35      ┆ 4.6           │\n",
      "│ versicolor ┆ sepal length (cm) ┆ 5.6           ┆ 5.9       ┆ 6.3           │\n",
      "│ versicolor ┆ sepal width (cm)  ┆ 2.5           ┆ 2.8       ┆ 3.0           │\n",
      "│ versicolor ┆ petal width (cm)  ┆ 1.2           ┆ 1.3       ┆ 1.5           │\n",
      "│ …          ┆ …                 ┆ …             ┆ …         ┆ …             │\n",
      "│ virginica  ┆ sepal length (cm) ┆ 6.2           ┆ 6.5       ┆ 6.9           │\n",
      "│ virginica  ┆ sepal width (cm)  ┆ 2.8           ┆ 3.0       ┆ 3.2           │\n",
      "│ setosa     ┆ petal length (cm) ┆ 1.4           ┆ 1.5       ┆ 1.6           │\n",
      "│ virginica  ┆ petal width (cm)  ┆ 1.8           ┆ 2.0       ┆ 2.3           │\n",
      "└────────────┴───────────────────┴───────────────┴───────────┴───────────────┘\n"
     ]
    },
    {
     "data": {
      "image/png": "[encoded data removed]",
      "text/plain": [
       "<Figure size 1000x300 with 3 Axes>"
      ]
     },
     "metadata": {},
     "output_type": "display_data"
    }
   ],
   "source": [
    "import polars.selectors as cs\n",
    "import seaborn as sns\n",
    "import matplotlib.pyplot as plt\n",
    "\n",
    "def long_format(df):\n",
    "    # include an id column\n",
    "    df = get_iris.with_columns(\n",
    "        id = pl.Series(list(range(len(get_iris))))\n",
    "    )\n",
    "    # bring data into long format\n",
    "    return df.melt(id_vars = [\"id\",\"classes\"], \n",
    "            variable_name = \"feature\", \n",
    "            value_name = \"cm\", \n",
    "            value_vars = df.select(~cs.starts_with(\"id\") & ~ cs.starts_with( \"classes\")).columns)\n",
    "\n",
    "def summary_stats(df_long):\n",
    "    # compute 0.25, 0.5, 0.75 quantiles\n",
    "    print(df_long.group_by([\"classes\",\"feature\"]).agg(pl.quantile(\"cm\", 0.25).name.suffix(\"_25quantile\"),\n",
    "                                                pl.median(\"cm\").name.suffix(\"_median\"),\n",
    "                                                pl.quantile(\"cm\", 0.75).name.suffix(\"_75quantile\")))\n",
    "\n",
    "def plot_feature(feature, df, feature2):\n",
    "    # create a grid for multiple plots\n",
    "    _, axs = plt.subplots(1,3, constrained_layout = True, figsize = (10,3))\n",
    "    # boxplot\n",
    "    sns.boxplot(x=df[\"classes\"], y=df[feature], hue = df[\"classes\"], palette='viridis', ax = axs[0])\n",
    "    # histogram\n",
    "    sns.histplot(x=df[feature], hue=df[\"classes\"], bins = 40, stat = \"density\", kde = True, ax = axs[1], palette='viridis')\n",
    "    # scatterplot\n",
    "    sns.scatterplot(x=df[feature], y=df[feature2], hue=df[\"classes\"], palette='viridis', ax = axs[2])\n",
    "    \n",
    "summary_stats(long_format(df))\n",
    "plot_feature('sepal width (cm)', df, 'sepal length (cm)')"
   ]
  },
  {
   "cell_type": "markdown",
   "id": "9850c149-4149-4b07-979c-fe0f788ae4e3",
   "metadata": {},
   "source": [
    "### Data sets from the internet\n",
    "\n",
    "**Kaggle** is one data repository that is used very often. When you are registered, you can create a Kaggle API Key which you can use to download data sets. \n",
    "See [here](https://christianjmills.com/posts/kaggle-obtain-api-key-tutorial/) for a short tutorial on how to get an API Key.\n",
    "\n",
    "Of course you can also manually download the data sets and upload them in your respective notebook.\n",
    "\n",
    "If you want to download the data set directly in Jupyter notebook you need to install first the `opendatasets` module\n",
    "\n",
    "+ check first whether `pip` is available in your terminal by entering the following command: `pip --version` (the output should give you your current pip version)\n",
    "+ `pip` should be already installed if not checkout the [pip documentation](https://pip.pypa.io/en/stable/installation/)\n",
    "+ install `opendatasets` by entering in your terminal: `pip install opendatasets`"
   ]
  },
  {
   "cell_type": "code",
   "execution_count": 157,
   "id": "6b91f3b4-3341-49cf-a2a9-5953177b5476",
   "metadata": {},
   "outputs": [
    {
     "name": "stdout",
     "output_type": "stream",
     "text": [
      "Please provide your Kaggle credentials to download this dataset. Learn more: http://bit.ly/kaggle-creds\n",
      "Your Kaggle username:"
     ]
    },
    {
     "name": "stdin",
     "output_type": "stream",
     "text": [
      "  anonymousa\n"
     ]
    },
    {
     "name": "stdout",
     "output_type": "stream",
     "text": [
      "Your Kaggle Key:"
     ]
    },
    {
     "name": "stdin",
     "output_type": "stream",
     "text": [
      "  ········\n"
     ]
    },
    {
     "name": "stdout",
     "output_type": "stream",
     "text": [
      "Downloading top-spotify-songs-2023.zip to .\\top-spotify-songs-2023\n"
     ]
    },
    {
     "name": "stderr",
     "output_type": "stream",
     "text": [
      "100%|██████████| 47.1k/47.1k [00:00<00:00, 1.72MB/s]"
     ]
    },
    {
     "name": "stdout",
     "output_type": "stream",
     "text": [
      "\n"
     ]
    },
    {
     "name": "stderr",
     "output_type": "stream",
     "text": [
      "\n"
     ]
    }
   ],
   "source": [
    "# import the opendatasets module\n",
    "import opendatasets as od\n",
    "\n",
    "# download the dataset from kaggle\n",
    "od.download(\"https://www.kaggle.com/datasets/nelgiriyewithana/top-spotify-songs-2023\")"
   ]
  },
  {
   "cell_type": "markdown",
   "id": "9ebb66f4-88de-4123-8a3f-9c7986cfaaf2",
   "metadata": {},
   "source": [
    "You will find a new folder with the respective data set in your current working directory."
   ]
  },
  {
   "cell_type": "code",
   "execution_count": 164,
   "id": "4625b789-bda0-4918-a758-0bf9abf325fd",
   "metadata": {},
   "outputs": [
    {
     "data": {
      "text/html": [
       "<div><style>\n",
       ".dataframe > thead > tr > th,\n",
       ".dataframe > tbody > tr > td {\n",
       "  text-align: right;\n",
       "  white-space: pre-wrap;\n",
       "}\n",
       "</style>\n",
       "<small>shape: (953, 24)</small><table border=\"1\" class=\"dataframe\"><thead><tr><th>track_name</th><th>artist(s)_name</th><th>artist_count</th><th>released_year</th><th>released_month</th><th>released_day</th><th>in_spotify_playlists</th><th>in_spotify_charts</th><th>streams</th><th>in_apple_playlists</th><th>in_apple_charts</th><th>in_deezer_playlists</th><th>in_deezer_charts</th><th>in_shazam_charts</th><th>bpm</th><th>key</th><th>mode</th><th>danceability_%</th><th>valence_%</th><th>energy_%</th><th>acousticness_%</th><th>instrumentalness_%</th><th>liveness_%</th><th>speechiness_%</th></tr><tr><td>str</td><td>str</td><td>i64</td><td>i64</td><td>i64</td><td>i64</td><td>i64</td><td>i64</td><td>i64</td><td>i64</td><td>i64</td><td>str</td><td>i64</td><td>str</td><td>i64</td><td>str</td><td>str</td><td>i64</td><td>i64</td><td>i64</td><td>i64</td><td>i64</td><td>i64</td><td>i64</td></tr></thead><tbody><tr><td>&quot;Seven (feat. L…</td><td>&quot;Latto, Jung Ko…</td><td>2</td><td>2023</td><td>7</td><td>14</td><td>553</td><td>147</td><td>141381703</td><td>43</td><td>263</td><td>&quot;45&quot;</td><td>10</td><td>&quot;826&quot;</td><td>125</td><td>&quot;B&quot;</td><td>&quot;Major&quot;</td><td>80</td><td>89</td><td>83</td><td>31</td><td>0</td><td>8</td><td>4</td></tr><tr><td>&quot;LALA&quot;</td><td>&quot;Myke Towers&quot;</td><td>1</td><td>2023</td><td>3</td><td>23</td><td>1474</td><td>48</td><td>133716286</td><td>48</td><td>126</td><td>&quot;58&quot;</td><td>14</td><td>&quot;382&quot;</td><td>92</td><td>&quot;C#&quot;</td><td>&quot;Major&quot;</td><td>71</td><td>61</td><td>74</td><td>7</td><td>0</td><td>10</td><td>4</td></tr><tr><td>&quot;vampire&quot;</td><td>&quot;Olivia Rodrigo…</td><td>1</td><td>2023</td><td>6</td><td>30</td><td>1397</td><td>113</td><td>140003974</td><td>94</td><td>207</td><td>&quot;91&quot;</td><td>14</td><td>&quot;949&quot;</td><td>138</td><td>&quot;F&quot;</td><td>&quot;Major&quot;</td><td>51</td><td>32</td><td>53</td><td>17</td><td>0</td><td>31</td><td>6</td></tr><tr><td>&quot;Cruel Summer&quot;</td><td>&quot;Taylor Swift&quot;</td><td>1</td><td>2019</td><td>8</td><td>23</td><td>7858</td><td>100</td><td>800840817</td><td>116</td><td>207</td><td>&quot;125&quot;</td><td>12</td><td>&quot;548&quot;</td><td>170</td><td>&quot;A&quot;</td><td>&quot;Major&quot;</td><td>55</td><td>58</td><td>72</td><td>11</td><td>0</td><td>11</td><td>15</td></tr><tr><td>&quot;WHERE SHE GOES…</td><td>&quot;Bad Bunny&quot;</td><td>1</td><td>2023</td><td>5</td><td>18</td><td>3133</td><td>50</td><td>303236322</td><td>84</td><td>133</td><td>&quot;87&quot;</td><td>15</td><td>&quot;425&quot;</td><td>144</td><td>&quot;A&quot;</td><td>&quot;Minor&quot;</td><td>65</td><td>23</td><td>80</td><td>14</td><td>63</td><td>11</td><td>6</td></tr><tr><td>&quot;Sprinter&quot;</td><td>&quot;Dave, Central …</td><td>2</td><td>2023</td><td>6</td><td>1</td><td>2186</td><td>91</td><td>183706234</td><td>67</td><td>213</td><td>&quot;88&quot;</td><td>17</td><td>&quot;946&quot;</td><td>141</td><td>&quot;C#&quot;</td><td>&quot;Major&quot;</td><td>92</td><td>66</td><td>58</td><td>19</td><td>0</td><td>8</td><td>24</td></tr><tr><td>&quot;Ella Baila Sol…</td><td>&quot;Eslabon Armado…</td><td>2</td><td>2023</td><td>3</td><td>16</td><td>3090</td><td>50</td><td>725980112</td><td>34</td><td>222</td><td>&quot;43&quot;</td><td>13</td><td>&quot;418&quot;</td><td>148</td><td>&quot;F&quot;</td><td>&quot;Minor&quot;</td><td>67</td><td>83</td><td>76</td><td>48</td><td>0</td><td>8</td><td>3</td></tr><tr><td>&quot;Columbia&quot;</td><td>&quot;Quevedo&quot;</td><td>1</td><td>2023</td><td>7</td><td>7</td><td>714</td><td>43</td><td>58149378</td><td>25</td><td>89</td><td>&quot;30&quot;</td><td>13</td><td>&quot;194&quot;</td><td>100</td><td>&quot;F&quot;</td><td>&quot;Major&quot;</td><td>67</td><td>26</td><td>71</td><td>37</td><td>0</td><td>11</td><td>4</td></tr><tr><td>&quot;fukumean&quot;</td><td>&quot;Gunna&quot;</td><td>1</td><td>2023</td><td>5</td><td>15</td><td>1096</td><td>83</td><td>95217315</td><td>60</td><td>210</td><td>&quot;48&quot;</td><td>11</td><td>&quot;953&quot;</td><td>130</td><td>&quot;C#&quot;</td><td>&quot;Minor&quot;</td><td>85</td><td>22</td><td>62</td><td>12</td><td>0</td><td>28</td><td>9</td></tr><tr><td>&quot;La Bebe - Remi…</td><td>&quot;Peso Pluma, Yn…</td><td>2</td><td>2023</td><td>3</td><td>17</td><td>2953</td><td>44</td><td>553634067</td><td>49</td><td>110</td><td>&quot;66&quot;</td><td>13</td><td>&quot;339&quot;</td><td>170</td><td>&quot;D&quot;</td><td>&quot;Minor&quot;</td><td>81</td><td>56</td><td>48</td><td>21</td><td>0</td><td>8</td><td>33</td></tr><tr><td>&quot;un x100to&quot;</td><td>&quot;Bad Bunny, Gru…</td><td>2</td><td>2023</td><td>4</td><td>17</td><td>2876</td><td>40</td><td>505671438</td><td>41</td><td>205</td><td>&quot;54&quot;</td><td>12</td><td>&quot;251&quot;</td><td>83</td><td>&quot;F#&quot;</td><td>&quot;Minor&quot;</td><td>57</td><td>56</td><td>72</td><td>23</td><td>0</td><td>27</td><td>5</td></tr><tr><td>&quot;Super Shy&quot;</td><td>&quot;NewJeans&quot;</td><td>1</td><td>2023</td><td>7</td><td>7</td><td>422</td><td>55</td><td>58255150</td><td>37</td><td>202</td><td>&quot;21&quot;</td><td>5</td><td>&quot;168&quot;</td><td>150</td><td>&quot;F&quot;</td><td>&quot;Minor&quot;</td><td>78</td><td>52</td><td>82</td><td>18</td><td>0</td><td>15</td><td>7</td></tr><tr><td>&hellip;</td><td>&hellip;</td><td>&hellip;</td><td>&hellip;</td><td>&hellip;</td><td>&hellip;</td><td>&hellip;</td><td>&hellip;</td><td>&hellip;</td><td>&hellip;</td><td>&hellip;</td><td>&hellip;</td><td>&hellip;</td><td>&hellip;</td><td>&hellip;</td><td>&hellip;</td><td>&hellip;</td><td>&hellip;</td><td>&hellip;</td><td>&hellip;</td><td>&hellip;</td><td>&hellip;</td><td>&hellip;</td><td>&hellip;</td></tr><tr><td>&quot;Would&#x27;ve, Coul…</td><td>&quot;Taylor Swift&quot;</td><td>1</td><td>2022</td><td>10</td><td>21</td><td>1715</td><td>0</td><td>177503916</td><td>4</td><td>5</td><td>&quot;8&quot;</td><td>0</td><td>&quot;0&quot;</td><td>158</td><td>&quot;G&quot;</td><td>&quot;Major&quot;</td><td>48</td><td>55</td><td>84</td><td>43</td><td>0</td><td>15</td><td>12</td></tr><tr><td>&quot;Con La Brisa&quot;</td><td>&quot;Ludwig Goranss…</td><td>2</td><td>2022</td><td>11</td><td>4</td><td>486</td><td>0</td><td>71095708</td><td>8</td><td>1</td><td>&quot;7&quot;</td><td>0</td><td>&quot;0&quot;</td><td>114</td><td>&quot;D&quot;</td><td>&quot;Minor&quot;</td><td>62</td><td>25</td><td>44</td><td>51</td><td>33</td><td>14</td><td>3</td></tr><tr><td>&quot;Privileged Rap…</td><td>&quot;Drake, 21 Sava…</td><td>2</td><td>2022</td><td>11</td><td>4</td><td>1007</td><td>0</td><td>112436403</td><td>6</td><td>5</td><td>&quot;3&quot;</td><td>0</td><td>&quot;0&quot;</td><td>144</td><td>&quot;F&quot;</td><td>&quot;Major&quot;</td><td>93</td><td>62</td><td>61</td><td>0</td><td>0</td><td>12</td><td>20</td></tr><tr><td>&quot;The Astronaut&quot;</td><td>&quot;Jin&quot;</td><td>1</td><td>2022</td><td>10</td><td>28</td><td>481</td><td>9</td><td>203436468</td><td>10</td><td>100</td><td>&quot;15&quot;</td><td>1</td><td>&quot;27&quot;</td><td>125</td><td>&quot;F&quot;</td><td>&quot;Major&quot;</td><td>54</td><td>22</td><td>76</td><td>0</td><td>0</td><td>14</td><td>3</td></tr><tr><td>&quot;BackOutsideBoy…</td><td>&quot;Drake&quot;</td><td>1</td><td>2022</td><td>11</td><td>4</td><td>1045</td><td>0</td><td>93367537</td><td>8</td><td>5</td><td>&quot;2&quot;</td><td>0</td><td>&quot;0&quot;</td><td>142</td><td>&quot;F&quot;</td><td>&quot;Minor&quot;</td><td>85</td><td>40</td><td>43</td><td>4</td><td>0</td><td>39</td><td>32</td></tr><tr><td>&quot;Broke Boys&quot;</td><td>&quot;Drake, 21 Sava…</td><td>2</td><td>2022</td><td>11</td><td>4</td><td>1060</td><td>0</td><td>106249219</td><td>3</td><td>8</td><td>&quot;5&quot;</td><td>0</td><td>&quot;0&quot;</td><td>120</td><td>&quot;D&quot;</td><td>&quot;Major&quot;</td><td>64</td><td>11</td><td>53</td><td>1</td><td>0</td><td>25</td><td>27</td></tr><tr><td>&quot;The Great War&quot;</td><td>&quot;Taylor Swift&quot;</td><td>1</td><td>2022</td><td>10</td><td>21</td><td>1274</td><td>0</td><td>181382590</td><td>1</td><td>6</td><td>&quot;11&quot;</td><td>0</td><td>&quot;0&quot;</td><td>96</td><td>&quot;F&quot;</td><td>&quot;Major&quot;</td><td>57</td><td>55</td><td>74</td><td>22</td><td>0</td><td>8</td><td>4</td></tr><tr><td>&quot;My Mind &amp; Me&quot;</td><td>&quot;Selena Gomez&quot;</td><td>1</td><td>2022</td><td>11</td><td>3</td><td>953</td><td>0</td><td>91473363</td><td>61</td><td>13</td><td>&quot;37&quot;</td><td>1</td><td>&quot;0&quot;</td><td>144</td><td>&quot;A&quot;</td><td>&quot;Major&quot;</td><td>60</td><td>24</td><td>39</td><td>57</td><td>0</td><td>8</td><td>3</td></tr><tr><td>&quot;Bigger Than Th…</td><td>&quot;Taylor Swift&quot;</td><td>1</td><td>2022</td><td>10</td><td>21</td><td>1180</td><td>0</td><td>121871870</td><td>4</td><td>0</td><td>&quot;8&quot;</td><td>0</td><td>&quot;0&quot;</td><td>166</td><td>&quot;F#&quot;</td><td>&quot;Major&quot;</td><td>42</td><td>7</td><td>24</td><td>83</td><td>1</td><td>12</td><td>6</td></tr><tr><td>&quot;A Veces (feat.…</td><td>&quot;Feid, Paulo Lo…</td><td>2</td><td>2022</td><td>11</td><td>3</td><td>573</td><td>0</td><td>73513683</td><td>2</td><td>0</td><td>&quot;7&quot;</td><td>0</td><td>&quot;0&quot;</td><td>92</td><td>&quot;C#&quot;</td><td>&quot;Major&quot;</td><td>80</td><td>81</td><td>67</td><td>4</td><td>0</td><td>8</td><td>6</td></tr><tr><td>&quot;En La De Ella&quot;</td><td>&quot;Feid, Sech, Jh…</td><td>3</td><td>2022</td><td>10</td><td>20</td><td>1320</td><td>0</td><td>133895612</td><td>29</td><td>26</td><td>&quot;17&quot;</td><td>0</td><td>&quot;0&quot;</td><td>97</td><td>&quot;C#&quot;</td><td>&quot;Major&quot;</td><td>82</td><td>67</td><td>77</td><td>8</td><td>0</td><td>12</td><td>5</td></tr><tr><td>&quot;Alone&quot;</td><td>&quot;Burna Boy&quot;</td><td>1</td><td>2022</td><td>11</td><td>4</td><td>782</td><td>2</td><td>96007391</td><td>27</td><td>18</td><td>&quot;32&quot;</td><td>1</td><td>&quot;0&quot;</td><td>90</td><td>&quot;E&quot;</td><td>&quot;Minor&quot;</td><td>61</td><td>32</td><td>67</td><td>15</td><td>0</td><td>11</td><td>5</td></tr></tbody></table></div>"
      ],
      "text/plain": [
       "shape: (953, 24)\n",
       "┌───────────┬───────────┬───────────┬───────────┬───┬───────────┬───────────┬───────────┬──────────┐\n",
       "│ track_nam ┆ artist(s) ┆ artist_co ┆ released_ ┆ … ┆ acousticn ┆ instrumen ┆ liveness_ ┆ speechin │\n",
       "│ e         ┆ _name     ┆ unt       ┆ year      ┆   ┆ ess_%     ┆ talness_% ┆ %         ┆ ess_%    │\n",
       "│ ---       ┆ ---       ┆ ---       ┆ ---       ┆   ┆ ---       ┆ ---       ┆ ---       ┆ ---      │\n",
       "│ str       ┆ str       ┆ i64       ┆ i64       ┆   ┆ i64       ┆ i64       ┆ i64       ┆ i64      │\n",
       "╞═══════════╪═══════════╪═══════════╪═══════════╪═══╪═══════════╪═══════════╪═══════════╪══════════╡\n",
       "│ Seven     ┆ Latto,    ┆ 2         ┆ 2023      ┆ … ┆ 31        ┆ 0         ┆ 8         ┆ 4        │\n",
       "│ (feat.    ┆ Jung Kook ┆           ┆           ┆   ┆           ┆           ┆           ┆          │\n",
       "│ Latto)    ┆           ┆           ┆           ┆   ┆           ┆           ┆           ┆          │\n",
       "│ (Explicit ┆           ┆           ┆           ┆   ┆           ┆           ┆           ┆          │\n",
       "│ Ve…       ┆           ┆           ┆           ┆   ┆           ┆           ┆           ┆          │\n",
       "│ LALA      ┆ Myke      ┆ 1         ┆ 2023      ┆ … ┆ 7         ┆ 0         ┆ 10        ┆ 4        │\n",
       "│           ┆ Towers    ┆           ┆           ┆   ┆           ┆           ┆           ┆          │\n",
       "│ vampire   ┆ Olivia    ┆ 1         ┆ 2023      ┆ … ┆ 17        ┆ 0         ┆ 31        ┆ 6        │\n",
       "│           ┆ Rodrigo   ┆           ┆           ┆   ┆           ┆           ┆           ┆          │\n",
       "│ Cruel     ┆ Taylor    ┆ 1         ┆ 2019      ┆ … ┆ 11        ┆ 0         ┆ 11        ┆ 15       │\n",
       "│ Summer    ┆ Swift     ┆           ┆           ┆   ┆           ┆           ┆           ┆          │\n",
       "│ …         ┆ …         ┆ …         ┆ …         ┆ … ┆ …         ┆ …         ┆ …         ┆ …        │\n",
       "│ Bigger    ┆ Taylor    ┆ 1         ┆ 2022      ┆ … ┆ 83        ┆ 1         ┆ 12        ┆ 6        │\n",
       "│ Than The  ┆ Swift     ┆           ┆           ┆   ┆           ┆           ┆           ┆          │\n",
       "│ Whole Sky ┆           ┆           ┆           ┆   ┆           ┆           ┆           ┆          │\n",
       "│ A Veces   ┆ Feid,     ┆ 2         ┆ 2022      ┆ … ┆ 4         ┆ 0         ┆ 8         ┆ 6        │\n",
       "│ (feat.    ┆ Paulo     ┆           ┆           ┆   ┆           ┆           ┆           ┆          │\n",
       "│ Feid)     ┆ Londra    ┆           ┆           ┆   ┆           ┆           ┆           ┆          │\n",
       "│ En La De  ┆ Feid,     ┆ 3         ┆ 2022      ┆ … ┆ 8         ┆ 0         ┆ 12        ┆ 5        │\n",
       "│ Ella      ┆ Sech,     ┆           ┆           ┆   ┆           ┆           ┆           ┆          │\n",
       "│           ┆ Jhayco    ┆           ┆           ┆   ┆           ┆           ┆           ┆          │\n",
       "│ Alone     ┆ Burna Boy ┆ 1         ┆ 2022      ┆ … ┆ 15        ┆ 0         ┆ 11        ┆ 5        │\n",
       "└───────────┴───────────┴───────────┴───────────┴───┴───────────┴───────────┴───────────┴──────────┘"
      ]
     },
     "execution_count": 164,
     "metadata": {},
     "output_type": "execute_result"
    }
   ],
   "source": [
    "# list the files/folders in your current working directory\n",
    "os.listdir()\n",
    "\n",
    "# open the data file (here with the polars module)\n",
    "import polars \n",
    "\n",
    "polars.read_csv('top-spotify-songs-2023/spotify-2023.csv', ignore_errors=True)"
   ]
  }
 ],
 "metadata": {
  "kernelspec": {
   "display_name": "Python 3 (ipykernel)",
   "language": "python",
   "name": "python3"
  },
  "language_info": {
   "codemirror_mode": {
    "name": "ipython",
    "version": 3
   },
   "file_extension": ".py",
   "mimetype": "text/x-python",
   "name": "python",
   "nbconvert_exporter": "python",
   "pygments_lexer": "ipython3",
   "version": "3.11.4"
  }
 },
 "nbformat": 4,
 "nbformat_minor": 5
}
