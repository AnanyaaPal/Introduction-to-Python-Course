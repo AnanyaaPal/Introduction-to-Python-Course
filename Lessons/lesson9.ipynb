{
 "cells": [
  {
   "cell_type": "markdown",
   "id": "79ab1d43-c032-41f1-9148-c3ba22835fd2",
   "metadata": {},
   "source": [
    "#| label: intro\n",
    "\n",
    "# Course material 8\n",
    "## Lesson 9 (07.12.2023)"
   ]
  },
  {
   "cell_type": "markdown",
   "id": "9e365a03-bce0-42ff-94dd-a6d067e8626e",
   "metadata": {},
   "source": [
    "> Disclaimer: Material is taken from \n",
    "> \n",
    "> the Research Software Engineering with Python Workhop\n",
    "> \n",
    "> from [The Alan Turing Institute’s Research Engineering Group](https://www.turing.ac.uk/research/research-engineering)\n",
    "> \n",
    "> and [UCL Research IT Services](http://www.ucl.ac.uk/research-it-services/homepage)."
   ]
  },
  {
   "cell_type": "markdown",
   "id": "6ef58c18-1023-4b5f-bba7-31bc6f2dfb1f",
   "metadata": {},
   "source": [
    "# Open Source Software Licenses (some resources)\n",
    "+ A short introduction (youtube video):\n",
    "    + The Linux Experiment (Username). \"Free and Open Source software licenses explained.\" YouTube, uploaded by The Linux Experiment, 25.05.2022, https://www.youtube.com/watch?v=UMIG4KnM8xw.\n",
    "+ Github support in choosing a license: https://choosealicense.com/\n",
    "+ Open Source License Comparison Grid as provided by the Carnegie Mellon University: https://www.cmu.edu/cttec/forms/opensourcelicensegridv1.pdf"
   ]
  },
  {
   "cell_type": "markdown",
   "id": "035c2948-3820-4eb1-8691-d846f1988504",
   "metadata": {},
   "source": [
    "# Software Packaging\n",
    "+ open your terminal in the directory of your example-project folder\n",
    "+ pull information from your Github repo such that your local directory is up-to-date\n",
    "    + `$ git pull` \n",
    "\n",
    "## Creating a virtual environment using conda\n",
    "+ First, we create an empty virtual environment using conda\n",
    "    + `$ conda create --name example-project`\n",
    "+ activate you environment\n",
    "    + `$ conda activate example-project`  (the environment's name is now displayed in brackets in the terminal)\n",
    "+ install pip in conda such that we can still use pip commands in conda\n",
    "    + `$ conda install pip`\n",
    "      \n",
    "## Prepare example-project for packaging\n",
    "+ change in the Anaconda Navigator your environment to `example-project`\n",
    "+ install and open Spyder and then open the politeness_data.py \n",
    "+ open a new python file in Spyder \n",
    "    + from `politeness_data.py` cut the class `DownloadData` and paste it into the new file\n",
    "    + cut & paste also the following imports\n",
    "        + `import requests`, `import os`, `import pathlib`\n",
    "    + save the new python file as `download_data.py` in your example-project folder\n",
    "+ open once more a new python file \n",
    "    + import the library \"pathlib\": `import pathlib`\n",
    "    + cut all code snippets that are still below the class PolitenessData in the `politeness_data.py` and paste them into the new file\n",
    "    + save the new python file as `usage_example.py`\n",
    "+ modify in the `politeness_data.py`:\n",
    "    + in the plot sns.swarmplot change the value of the `data` argument from `df` to `pd.DataFrame(df, columns = df.columns)` (as seaborn requires here a pandas data frame and not a polars data frame)\n",
    "    + install the module `pyarrow` which is needed for the polars function: pl.from_pandas\n",
    "        + `$ pip install ` \n",
    "+ save and close all files in Spyder\n",
    "\n",
    "+ go to your terminal and list all files in your folder including hidden files (starting with .)\n",
    "    + `$ ls -a`\n",
    "+ You should see the following:"
   ]
  },
  {
   "cell_type": "raw",
   "id": "ca77256f-7b91-4e25-a1a8-30574d1b5f7c",
   "metadata": {},
   "source": [
    "./   .git/       LICENSE.txt  data/             politeness_data.py\n",
    "../  .gitignore  README.md    download_data.py  usage_example.py"
   ]
  },
  {
   "cell_type": "markdown",
   "id": "525e0328-5909-41eb-9559-7822c6e35432",
   "metadata": {},
   "source": [
    "## Laying out a project\n",
    "+ When planning to package a project for distribution, defining a suitable project layout is essential.\n",
    "+ A classical layout looks as follows (here with exemplified by our example-project):"
   ]
  },
  {
   "cell_type": "raw",
   "id": "72a707f5-010a-444e-83d8-d66b5e6b1d48",
   "metadata": {},
   "source": [
    "example-project                 <--- Parent directory for your project (your git repo)\n",
    "├── example_project             <--- Directory containing the code for your package\n",
    "│  ├── __init__.py              <--- Tells Python to treat the directory as a package\n",
    "│  ├── politeness_data.py\n",
    "│  └── download_data.py\n",
    "├── LICENSE.txt                 <--- License to describe how others can use your package\n",
    "├── pyproject.toml              <--- Configuration and metadata for your package\n",
    "├── setup.py                    <--- Currently needed to install your package in an \"editable mode\"\n",
    "├── README.md                   <--- Homepage to briefly describe how to install and use your package\n",
    "├── .gitignore                  <--- Manages which files should be tracked via git and which not\n",
    "└── examples                    <--- Includes case studies to show how your package can be used\n",
    "│  ├── data\n",
    "│  └── usage_example.py\n",
    "└── tests                       <--- Tests for your package's functionality\n",
    "   └── test_politeness_data.py\n",
    "   └── test_download_data.py"
   ]
  },
  {
   "cell_type": "markdown",
   "id": "c2e0a2f1-9a90-4d8a-9b96-eda808dbd0d2",
   "metadata": {},
   "source": [
    "+ `example_project` (source code directory)\n",
    "    + should contain an `__init__.py` file, which makes Python treat it as a module.\n",
    "    + The `__init__.py` file can be empty.\n",
    "+ `pyproject.toml`\n",
    "    + To install your package you need to define a \"build system\", the tool that will do the work of creating the package, and to provide a configuration file to specify how your package should be built.\n",
    "    + The three most common package config files are:\n",
    "        + pyproject.toml (preferred)\n",
    "        + setup.cfg (may be deprecated in the future)\n",
    "        + setup.py (may be needed for packages with complex build requirements)\n",
    "    + You’ll find a lot of projects that use setup.py (which used to be the standard), but for new projects it’s recommended to use pyproject.toml. TOML is a modern file format for configuration files.\n",
    "    + There are multiple \"build systems\" that can interpret `pyproject.toml` files and build your package. The original and most ubiquitous is `setuptools`.\n",
    "    + Note: The structure of pyproject.toml will differ depending on the tool you’re using.\n",
    "+ `setup.py`\n",
    "    + If you want to install a package, but keep working on it, you can install it in “editable mode”. (most likely this won't be needed in future)\n",
    "+ `LICENSE.txt`, `README.md`, `.gitignore`\n",
    "    + about these files we talked in the last session (please checkout the corresponding material)\n",
    "+ `examples`\n",
    "    + this folder includes all code/ material that we need in order to present case studies that show the functionality of our package\n",
    "    + this is not a \"standard folder\" but for our specific example-project useful\n",
    "+ `tests`\n",
    "    + includes tests of your functions/classes  \n",
    "    + we will talk about testing in the upcoming session   "
   ]
  },
  {
   "cell_type": "markdown",
   "id": "5374ae5f-dfdf-4d66-b144-5eb4e93872de",
   "metadata": {},
   "source": [
    "## Prepare the folder directory\n",
    "+ prepare the `example_project` folder:\n",
    "    + go to your terminal create a `example_project` folder in your example-project directory\n",
    "        + `$ mkdir example_project`\n",
    "    + move `politeness_data.py` and `download_data.py` into the `example_project` folder\n",
    "        + `$ mv politeness_data.py example_project`\n",
    "        + `$ mv download_data.py example_project`  \n",
    "    + go into the example_project folder and create an empty `__init__.py`:\n",
    "        + `$ cd example_project`\n",
    "        + `$ touch __init__.py`     \n",
    "    + check whether everything worked: list all files:\n",
    "        + `$ ls`\n",
    "    + go again out of the example_project folder into the main directory of your example-project:\n",
    "        + `$ cd ..`\n",
    "          \n",
    "+ prepare the `examples` folder: \n",
    "    + Let's do the same procedure as above for the examples folder:\n",
    "        + `$ mkdir examples` (create the examples folder)\n",
    "        + `$ mv data examples` (move the data folder to examples)\n",
    "        + `$ mv usage_example.py examples` (move usage_example.py to examples)\n",
    "          \n",
    "+ prepare the `tests` folder: \n",
    "    + let's create also already the tests folder with empty files as preparation for the upcoming \"testing\" session\n",
    "        + `$ mkdir tests` and `$ cd tests` (create the tests folder and go into it)\n",
    "        + `$ touch test_politeness_data.py` (create an empty test file)\n",
    "        + `$ touch test_download_data.py` (create an empty test file)\n",
    "        + `$ cd ..` (go back to the main directory of the example-project)\n",
    "\n",
    "+ Let's have a look into the current structure of our example-project\n",
    "    + `$ ls -Rt` "
   ]
  },
  {
   "cell_type": "raw",
   "id": "5b1fc09f-2dd3-4b92-8545-3b311629868d",
   "metadata": {},
   "source": [
    ".:\n",
    "example_project/  pyproject.toml  tests/  examples/  README.md  LICENSE.txt\n",
    "\n",
    "./source:\n",
    "__init__.py  download_data.py  politeness_data.py\n",
    "\n",
    "./tests:\n",
    "test_download_data.py  test_politeness_data.py\n",
    "\n",
    "./examples:\n",
    "usage_example.py  data/\n",
    "\n",
    "./examples/data:\n",
    "pitch_data.csv"
   ]
  },
  {
   "cell_type": "markdown",
   "id": "9428df65-78a3-446a-81ee-7ab7c0ca8d17",
   "metadata": {},
   "source": [
    "## Create a pyproject.toml with setuptools\n",
    "+ next, we want to create the pyproject.toml\n",
    "+ go to your terminal and create the file: `$ touch pyproject.toml`\n",
    "+ then open the file (Windows: `start pyproject.toml`, Mac: `open pyproject.toml`)\n",
    "+ copy&paste the following text into your pyproject.toml:"
   ]
  },
  {
   "cell_type": "raw",
   "id": "d4624c90-b7cc-41ec-9994-65735279ef68",
   "metadata": {},
   "source": [
    "%% pyproject.toml\n",
    "\n",
    "[build-system]\n",
    "requires = [\"setuptools\"]\n",
    "build-backend = \"setuptools.build_meta\"\n",
    "\n",
    "[project]\n",
    "name = \"example_project\"\n",
    "version = \"0.0.1\"\n",
    "requires-python = \">=3.6\"\n",
    "dependencies = [\"matplotlib>=3.5.1\",\n",
    "                \"numpy>=1.15.1\",\n",
    "                \"pandas>=1.3.5\",\n",
    "                \"polars==0.19.19\",\n",
    "                \"pyarrow>=11.0.0\",\n",
    "                \"Requests==2.31.0\",\n",
    "                \"seaborn==0.11.2\",\n",
    "                \"setuptools>=40.2.0\",\n",
    "                \"pathlib>=1.0\"]\n",
    "\n",
    "[project.optional-dependencies]\n",
    "dev = [\"pytest ~= 7.1.2\"]"
   ]
  },
  {
   "cell_type": "markdown",
   "id": "581d0a77-445b-48c2-ba66-dc294ac1cc5d",
   "metadata": {},
   "source": [
    "+ The `[build-system]` section gives the details the tool that should be used to create the package from our code, in this case `setuptools`\n",
    "+ The `[project]` section contains metadata about your package, at minimum this should include your package’s name (usually the name of your package directory) and a version number\n",
    "+ Your package’s dependencies should be passed as a list in the `[project]` section\n",
    "    + Now the question is: How do you get a list of all modules that you import in your package?\n",
    "    + One possible way is to use the python module `pipreqs`\n",
    "        + install the module: `$ pip install pipreqs`\n",
    "        + make sure that you are in the main directory of your example-project\n",
    "        + and then run `$ pipreqs .` (it will now take some time but finally you should see the message:  Successfully saved requirements file in .\\requirements.txt)\n",
    "    + open the requirements.txt (`$ start requirements.txt`)\n",
    "        + search for each module for the oldest version and type \">= ...\" (e.g., numpy >= 1.21.5)\n",
    "        + copy the modules/versions and paste them into your pyproject.toml\n",
    "    + it is important to check whether all imports that you made in the folder `example_project` were detected. We can use the terminal for that:\n",
    "        + `$ cd example_project` and `$ grep -r \"import\"`\n",
    "        + You see here that pathlib is listed but was not recognized by `pipreqs`,\n",
    "        + thus we add `pathlib` manually to the dependencies list\n",
    "        + information about the version we get by typing the following into the terminal:\n",
    "            + `$ pip show pathlib`\n",
    "+ `[project.optional-dependencies]`: Sometimes a package may have extra optional features, with extra dependencies, that not all users need. A common example is development dependencies (e.g. for running tests, building documentation, checking code quality, and similar) that a normal user won’t need. `dev` is the name of an optional group of dependencies that can be passed to pip when installing the package\n",
    "\n",
    "+ save and close the pyproject.toml\n",
    "\n",
    "## Create a small setup.py\n",
    "\n",
    "+ create a setup.py\n",
    "    + `$ touch setup.py`\n",
    "    + write the following two lines, save and close the file: "
   ]
  },
  {
   "cell_type": "markdown",
   "id": "a45690ea-4519-4c92-b78f-fd4849f66eb3",
   "metadata": {},
   "source": [
    "from setuptools import setup\n",
    "\n",
    "setup()"
   ]
  },
  {
   "cell_type": "markdown",
   "id": "a40c4b6b-428c-49b2-ac0f-6bd19f030df5",
   "metadata": {},
   "source": [
    "## Install package\n",
    "+ now we install our package (make sure that your are in the main directory of your example-project) \n",
    "    + `$ pip install .`\n",
    "+ To install dependencies specified in `[project.optional-dependencies]`, include the name of the optional group in square brackets, like this:\n",
    "    + `$ pip install -e \".[dev]\"` (now pytest will be installed in an editable mode therefore -e)\n",
    "+ Let's have again a look into our folder structure\n",
    "    + `$ ls -Rt`"
   ]
  },
  {
   "cell_type": "raw",
   "id": "ff0c2b7c-3957-4638-8541-e470d55114d5",
   "metadata": {
    "jp-MarkdownHeadingCollapsed": true
   },
   "source": [
    ".:\n",
    "example_project.egg-info/  setup.py          examples/\n",
    "pyproject.toml             requirements.txt  README.md\n",
    "example_project/           tests/            LICENSE.txt\n",
    "\n",
    "./example_project.egg-info:\n",
    "SOURCES.txt  dependency_links.txt  requires.txt  top_level.txt  PKG-INFO\n",
    "\n",
    "./example_project:\n",
    "download_data.py  politeness_data.py  __init__.py\n",
    "\n",
    "./tests:\n",
    "test_download_data.py  test_politeness_data.py\n",
    "\n",
    "./examples:\n",
    "usage_example.py  data/\n",
    "\n",
    "./examples/data:\n",
    "pitch_data.csv\n"
   ]
  },
  {
   "cell_type": "markdown",
   "id": "50f4906d-12e3-48a5-95f0-0e91489fab53",
   "metadata": {},
   "source": [
    "## Using your package\n",
    "\n",
    "+ open the file `usage_example.py` in Spyder\n",
    "+ add the following two lines on top of the file:\n",
    "    + `from example_project.download_data import DownloadData`\n",
    "    + `from example_project.politeness_data import PolitenessData`\n",
    "+ thus, we import our own module and call the class from the submodule\n",
    "+ change the path of the variable `target_path` (note, we moved the data folder into the folder \"examples\")\n",
    "+ finally, let's create a Spyder project such that we don't have to modify the PATH permanently\n",
    "    + click on the tab `Projects` in the Spyder toolbar\n",
    "    + then use the option \"existing directory\" and select the \"example-project\" directory \n",
    "+ Open the `usage_example.py` again and run the file "
   ]
  },
  {
   "cell_type": "markdown",
   "id": "95c8bdec-1a76-4c59-a15e-ea70c975521f",
   "metadata": {},
   "source": [
    "# Documentation (with Sphinx)\n",
    "\n",
    "+ We’re going to document our “example-project” using docstrings with Sphinx.\n",
    "+ There are various conventions for how to write docstrings, we use the conventions from NumPy. So we use the numpydoc sphinx extension to support these.\n",
    "\n",
    "## Set up sphinx\n",
    "+ Invoke the sphinx-quickstart command to build Sphinx’s configuration file automatically based on questions at the command line:\n",
    "    +  `$ sphinx-quickstart docs`\n",
    "+ Entering this command result in the following response: "
   ]
  },
  {
   "cell_type": "raw",
   "id": "44baab86-0146-4f16-8183-5fdb5f6a41ad",
   "metadata": {},
   "source": [
    "Please enter values for the following settings (just press Enter to\n",
    "accept a default value, if one is given in brackets).\n",
    "\n",
    "Selected root path: docs\n",
    "\n",
    "You have two options for placing the build directory for Sphinx output.\n",
    "Either, you use a directory \"_build\" within the root path, or you separate\n",
    "\"source\" and \"build\" directories within the root path.\n",
    "> Separate source and build directories (y/n) [n]: n\n",
    "\n",
    "The project name will occur in several places in the built documentation.\n",
    "> Project name: example-project\n",
    "> Author name(s): Florence Bockting\n",
    "> Project release []: 0.0.1\n",
    "\n",
    "If the documents are to be written in a language other than English,\n",
    "you can select a language here by its language code. Sphinx will then\n",
    "translate text that it generates into that language.\n",
    "\n",
    "For a list of supported codes, see\n",
    "https://www.sphinx-doc.org/en/master/usage/configuration.html#confval-language.\n",
    "> Project language [en]: <just press ENTER>"
   ]
  },
  {
   "cell_type": "markdown",
   "id": "b140b57c-96bb-46e0-8e5c-72cdee865fa6",
   "metadata": {},
   "source": [
    "+ now our directory contains a new folder called `docs`:\n",
    "    + `$ ls`\n",
    "+ let's go into the folder and have a look at the generated files:\n",
    "    + `$ cd docs` and `$ ls`\n",
    "    + you should see something like: Makefile  _build/  _static/  _templates/  conf.py  index.rst  make.bat\n",
    "+ let's have a look at the `conf.py`:\n",
    "    + `$ start conf.py`      \n",
    "+ This file contains the project’s Sphinx configuration, as Python variables.\n",
    "+ First, we add before the section \"project information\" the path to our package modules (relative to the location where the conf.py is stored)  "
   ]
  },
  {
   "cell_type": "markdown",
   "id": "face7c5c-b440-46bb-82b7-82ea3c513eec",
   "metadata": {},
   "source": [
    "import os\n",
    "import sys\n",
    "\n",
    "sys.path.insert(0, os.path.abspath(\"../example_project\"))"
   ]
  },
  {
   "cell_type": "markdown",
   "id": "a102aadb-3ac0-49b9-b09a-b584ddced6c4",
   "metadata": {},
   "source": [
    "+ Let’s add some extensions to the `extensions` field and save the file"
   ]
  },
  {
   "cell_type": "raw",
   "id": "8000c1bc-bb66-4f25-8adb-f437d5224dd3",
   "metadata": {},
   "source": [
    "extensions = [\n",
    "    \"sphinx.ext.autodoc\",     # Support automatic documentation\n",
    "    \"sphinx.ext.coverage\",    # Automatically check if functions are documented\n",
    "    \"sphinx.ext.mathjax\",     # Allow support for algebra\n",
    "    \"sphinx.ext.viewcode\",    # Include the source code in documentation\n",
    "    \"numpydoc\",               # Support NumPy style docstrings\n",
    "    \"sphinx.ext.autosummary\", # Generates function/method/attribute summary lists\n",
    "    \"sphinx.ext.napoleon\",    # Enables Sphinx to parse both NumPy and Google style docstrings\n",
    "    \"myst_nb\",                # For compiling Jupyter Notebooks into high quality documentation formats\n",
    "]"
   ]
  },
  {
   "cell_type": "markdown",
   "id": "f25aa6cb-6c40-493a-88c9-b772c09bac53",
   "metadata": {},
   "source": [
    "+ we have to install the `myst_nb` module using\n",
    "    + `$ pip install myst_nb` \n",
    "\n",
    "# automatic documentation (build .rst from .py files)\n",
    "+ make sure you are in the `docs` folder \n",
    "+ `$ sphinx-apidoc -f -o source/ ../example_project` (sphinx-apidoc [optional: -f] -o <OUTPUT_PATH> <MODULE_PATH> )\n",
    "+ check whether the folder `source` has been created:\n",
    "    + `$ ls`\n",
    "+ go into the folder `source` and list all generated files:\n",
    "    + `$ ls`\n",
    "    + you should see something like: example_project.rst,  modules.rst\n",
    " \n",
    "## Define the root documentation page\n",
    "+ Sphinx uses RestructuredText another wiki markup format similar to Markdown.\n",
    "+ when using the command `sphinx-quickstart` a template is created in an `index.rst`, which can be edited to contain any preamble text you want.\n",
    "+ the index.rst file can be found in the `docs` folder, thus let's go to the docs folder and open the file \n",
    "    + `$ cd ..` and `$ start index.rst`\n",
    "+ Make the following small changes in the index.rst (and save the modified file): "
   ]
  },
  {
   "cell_type": "raw",
   "id": "c71a8726-d6af-44c2-ba0d-79181cc8c84c",
   "metadata": {
    "jp-MarkdownHeadingCollapsed": true
   },
   "source": [
    ".. example-project documentation master file, created by\n",
    "   sphinx-quickstart on Wed Dec  6 23:23:30 2023.\n",
    "   You can adapt this file completely to your liking, but it should at least\n",
    "   contain the root `toctree` directive.\n",
    "\n",
    "Learning Sphinx and Git with an example project\n",
    "===============================================\n",
    "\n",
    ".. toctree::\n",
    "   :maxdepth: 3\n",
    "   :hidden:\n",
    "\n",
    "   Home <self>\n",
    "   API <source/modules.rst>\n",
    "\n",
    "\n",
    "Introduction\n",
    "------------\n",
    "Some introductory words about what your package does..."
   ]
  },
  {
   "cell_type": "markdown",
   "id": "a36722e4-6d38-4c2f-91bc-a6ae5a16ed2c",
   "metadata": {},
   "source": [
    "## Run sphinx\n",
    "+ make sure you are in the `docs` folder \n",
    "+ and then run Sphinx using:\n",
    "    + `$ sphinx-build . ./output`  ( sphinx-build <sourcedir> <outputdir> )\n",
    "+ check whether in docs a folder named `output` has been created:\n",
    "    + `$ ls`\n",
    "    + you should see something like: Makefile  _build/  _static/  _templates/  conf.py  index.rst  make.bat  output/\n",
    "\n",
    "## Sphinx output\n",
    "+ go into the `output` folder and open the `index.html`\n",
    "    + `$ cd output` and `start index.html`\n",
    "    + you should see a simple documentation page that has been opened in your default browser  \n",
    "\n",
    "## Sphinx design\n",
    "+ At the moment our documentation site looks not very nice, so let us change the design a bit.\n",
    "+ First, let us use as html design `sphinx_book_theme`. Open the conf.py in the docs folder:\n",
    "    + (make sure you are in the docs folder) `$ start conf.py`\n",
    "    + change the value of the variable `html_theme` from alabaster to `sphinx_book_theme` and save the file\n",
    "    + Before we can use this new theme, we have to install it with: `$ pip install sphinx_book_theme`\n",
    "+ Now, we can build the site again and have a look how the design has changed\n",
    "    + (make sure you are still in the docs folder) `$ sphinx-build . ./output`\n",
    "    + open the html file: `$ start output/index.html`\n",
    "+ Looks already better. However, we can even improve the design a bit.\n",
    "+ Open again the `conf.py` and add the following below the variable \"exclude_patterns\":"
   ]
  },
  {
   "cell_type": "markdown",
   "id": "12d481c5-b75f-4840-b970-0bedc14b0034",
   "metadata": {},
   "source": [
    "numpydoc_show_class_members = False\n",
    "\n",
    "autodoc_default_options = {\n",
    "    \"members\": \"var1, var2\",\n",
    "    \"special-members\": \"__call__,__init__\",\n",
    "    \"undoc-members\": True,\n",
    "    \"exclude-members\": \"__weakref__\",\n",
    "    \"member-order\": \"bysource\"\n",
    "}"
   ]
  },
  {
   "cell_type": "markdown",
   "id": "fb3bd219-90d8-4d66-80e8-abc034129cf8",
   "metadata": {},
   "source": [
    "+ furthermore add to the variable `extensions`:\n",
    "    + \"sphinx_design\",  # For designing beautiful, view size responsive web components.\n",
    "+ and add  below `html_theme`:\n",
    "    + html_title = \"Example Project\" \n",
    "+ save the conf.py\n",
    "+ before we build the site again, we have to install the module `sphinx_design` with\n",
    "    + `$ pip install sphinx_design`\n",
    "+ now we can have a look at the changes we just made:\n",
    "    + `$ sphinx-build . ./output`\n",
    " \n",
    "## Include jupyter notebooks into your site\n",
    "+ Finally, let us include a jupyter notebook into our site\n",
    "+ I have already created a notebook that corresponds to our \"usage_example.py\"\n",
    "+ In order to save time you can simply download the `example_notebook.ipynb` from our course website in the material section (lesson 9)\n",
    "+ create in the `example-project/docs` folder a new folder called `notebooks` \n",
    "    + (make sure you are in the docs folder) `$ mkdir notebooks`\n",
    "    + save the file `example_notebook.ipynb` in the folder `notebooks`\n",
    "+ open the index.rst in order to include the notebook \n",
    "    + `$ start index.html`\n",
    "    + include after `API <source/modules.rst>` the following line:\n",
    "        + `Example <notebooks/example_notebook>`\n",
    "    + save the index.rst\n",
    "+ now open the `conf.py` and add the following lines at the end of the file:"
   ]
  },
  {
   "cell_type": "raw",
   "id": "9923e4ce-3948-4b20-8bdf-d0e4d49c46bc",
   "metadata": {},
   "source": [
    "# do not execute jupyter notebooks when building docs\n",
    "nb_execution_mode = \"off\"\n",
    "\n",
    "# download notebooks as .ipynb and not as .ipynb.txt\n",
    "html_sourcelink_suffix = \"\"\n",
    "\n",
    "suppress_warnings = [\n",
    "    f\"autosectionlabel._examples/{filename.split('.')[0]}\"\n",
    "    for filename in os.listdir(\"notebooks/\")\n",
    "    if os.path.isfile(os.path.join(\"notebooks/\", filename))\n",
    "]  # Avoid duplicate label warnings for Jupyter notebooks.\n",
    "\n",
    "remove_from_toctrees = [\"_autosummary/*\"]"
   ]
  },
  {
   "cell_type": "markdown",
   "id": "4585aca9-f274-41c6-b6ae-023440b2f7bf",
   "metadata": {},
   "source": [
    "+ save the `conf.py`\n",
    "+ now let's build the site again\n",
    "    + (make sure you are in the docs folder) `$ sphinx-build . ./output`\n",
    "+ and open the `index.html` "
   ]
  }
 ],
 "metadata": {
  "kernelspec": {
   "display_name": "Python 3 (ipykernel)",
   "language": "python",
   "name": "python3"
  },
  "language_info": {
   "codemirror_mode": {
    "name": "ipython",
    "version": 3
   },
   "file_extension": ".py",
   "mimetype": "text/x-python",
   "name": "python",
   "nbconvert_exporter": "python",
   "pygments_lexer": "ipython3",
   "version": "3.8.13"
  }
 },
 "nbformat": 4,
 "nbformat_minor": 5
}
